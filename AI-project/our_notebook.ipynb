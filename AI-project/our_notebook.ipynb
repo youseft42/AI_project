{
 "cells": [
  {
   "cell_type": "markdown",
   "metadata": {},
   "source": [
    "$$\n",
    "\\newcommand{\\mat}[1]{\\boldsymbol {#1}}\n",
    "\\newcommand{\\mattr}[1]{\\boldsymbol {#1}^\\top}\n",
    "\\newcommand{\\matinv}[1]{\\boldsymbol {#1}^{-1}}\n",
    "\\newcommand{\\vec}[1]{\\boldsymbol {#1}}\n",
    "\\newcommand{\\vectr}[1]{\\boldsymbol {#1}^\\top}\n",
    "\\newcommand{\\rvar}[1]{\\mathrm {#1}}\n",
    "\\newcommand{\\rvec}[1]{\\boldsymbol{\\mathrm{#1}}}\n",
    "\\newcommand{\\diag}{\\mathop{\\mathrm {diag}}}\n",
    "\\newcommand{\\set}[1]{\\mathbb {#1}}\n",
    "\\newcommand{\\norm}[1]{\\left\\lVert#1\\right\\rVert}\n",
    "\\newcommand{\\pderiv}[2]{\\frac{\\partial #1}{\\partial #2}}\n",
    "\\newcommand{\\bb}[1]{\\boldsymbol{#1}}\n",
    "$$\n",
    "# Data creation\n",
    "<a id=part1></a>"
   ]
  },
  {
   "cell_type": "markdown",
   "metadata": {},
   "source": [
    "we will start by setting up our datasets and dataloaders, then splitting data into train/validation/test sets"
   ]
  },
  {
   "cell_type": "code",
   "execution_count": 1,
   "metadata": {},
   "outputs": [],
   "source": [
    "import unittest\n",
    "import os\n",
    "import sys\n",
    "import pathlib\n",
    "import urllib\n",
    "import shutil\n",
    "import re\n",
    "\n",
    "import numpy as np\n",
    "import torch\n",
    "import matplotlib.pyplot as plt\n",
    "\n",
    "%load_ext autoreload\n",
    "%autoreload 2"
   ]
  },
  {
   "cell_type": "code",
   "execution_count": 2,
   "metadata": {},
   "outputs": [
    {
     "name": "stdout",
     "output_type": "stream",
     "text": [
      "Using device: cpu\n"
     ]
    }
   ],
   "source": [
    "test = unittest.TestCase()\n",
    "plt.rcParams.update({'font.size': 12})\n",
    "device = torch.device('cuda' if torch.cuda.is_available() else 'cpu')\n",
    "print('Using device:', device)"
   ]
  },
  {
   "cell_type": "code",
   "execution_count": 3,
   "metadata": {},
   "outputs": [
    {
     "name": "stdout",
     "output_type": "stream",
     "text": [
      "{'ID': '10971', 'TARGET': 'legalization of abortion', 'TWEET': ['where', 'is', 'the', 'childcare', 'program', '@joanburton', 'which', 'you', 'said', 'would', 'be', 'in', 'place?', '#loneparents', '#7istooyoung', '#semst'], 'STANCE': 'AGAINST', 'SENTIMENT': 'NEGATIVE'}\n",
      "{'ID': '2412', 'TARGET': 'legalization of abortion', 'TWEET': ['please', 'join', 'us', 'as', 'we', 'pray', 'to', 'end', 'the', 'global', 'holocaust', 'of', 'abortion!', '#semst'], 'STANCE': 'AGAINST', 'SENTIMENT': 'NEGATIVE'}\n",
      "280\n"
     ]
    },
    {
     "name": "stderr",
     "output_type": "stream",
     "text": [
      "C:\\Users\\User\\anaconda3\\envs\\AI-project\\lib\\site-packages\\torchtext\\data\\field.py:150: UserWarning: Field class will be retired in the 0.8.0 release and moved to torchtext.legacy. Please see 0.7.0 release notes for further information.\n",
      "  warnings.warn('{} class will be retired in the 0.8.0 release and moved to torchtext.legacy. Please see 0.7.0 release notes for further information.'.format(self.__class__.__name__), UserWarning)\n",
      "C:\\Users\\User\\anaconda3\\envs\\AI-project\\lib\\site-packages\\torchtext\\data\\example.py:68: UserWarning: Example class will be retired in the 0.8.0 release and moved to torchtext.legacy. Please see 0.7.0 release notes for further information.\n",
      "  warnings.warn('Example class will be retired in the 0.8.0 release and moved to torchtext.legacy. Please see 0.7.0 release notes for further information.', UserWarning)\n",
      "C:\\Users\\User\\anaconda3\\envs\\AI-project\\lib\\site-packages\\torchtext\\data\\example.py:78: UserWarning: Example class will be retired in the 0.8.0 release and moved to torchtext.legacy. Please see 0.7.0 release notes for further information.\n",
      "  warnings.warn('Example class will be retired in the 0.8.0 release and moved to torchtext.legacy. Please see 0.7.0 release notes for further information.', UserWarning)\n"
     ]
    }
   ],
   "source": [
    "import torchtext\n",
    "from torchtext import data\n",
    "from torchtext import datasets\n",
    "\n",
    "# create Field objects\n",
    "ID = data.Field(sequential=False, dtype=torch.int8,use_vocab=True)\n",
    "TARGET = data.Field(sequential=False, lower=True, dtype=torch.long, use_vocab=True)\n",
    "TWEET = data.Field(sequential=True, use_vocab=True, lower=True,\n",
    "    init_token='<sos>', eos_token='<eos>', dtype=torch.long)\n",
    "STANCE = data.Field( is_target=True, sequential=False, unk_token=None, use_vocab=True)\n",
    "SENTIMENT = data.Field( is_target=True, sequential=False, unk_token=None, use_vocab=True)\n",
    "\n",
    "# create tuples representing the columns\n",
    "fields = [\n",
    "   ('ID', ID),\n",
    "  ('TARGET', TARGET),\n",
    "  ('TWEET', TWEET),\n",
    "  ('STANCE', STANCE),\n",
    "  (None, None), # ignore age column\n",
    "  ('SENTIMENT', SENTIMENT)\n",
    "]\n",
    "\n",
    "\n",
    "# load the dataset in json format\n",
    "train_ds, valid_ds, test_ds = data.TabularDataset.splits(\n",
    "   path = 'data-all-annotations',\n",
    "   train = 'legalization_of_abortion_train_set.txt',\n",
    "   validation = 'legalization_of_abortion_valid_set.txt',\n",
    "   test = 'legalization_of_abortion_test_set.txt',\n",
    "   format = 'tsv',\n",
    "   fields = fields\n",
    ")\n",
    "\n",
    "# check an example\n",
    "print(vars(train_ds[1]))\n",
    "print(vars(valid_ds[100]))\n",
    "print(len(train_ds))"
   ]
  },
  {
   "cell_type": "markdown",
   "metadata": {},
   "source": [
    "### Data Pre-processing\n",
    "<a id=part1_3></a>"
   ]
  },
  {
   "cell_type": "markdown",
   "metadata": {},
   "source": [
    "The first thing we'll need to build a vocabulary for our fields "
   ]
  },
  {
   "cell_type": "code",
   "execution_count": 4,
   "metadata": {},
   "outputs": [
    {
     "name": "stdout",
     "output_type": "stream",
     "text": [
      "Number of tokens in training samples: 1941\n",
      "Number of tokens in training stance labels: 3\n",
      "Number of tokens in training sentiment labels: 3\n"
     ]
    }
   ],
   "source": [
    "ID.build_vocab(train_ds)\n",
    "TARGET.build_vocab(train_ds)\n",
    "TWEET.build_vocab(train_ds)\n",
    "STANCE.build_vocab(train_ds)\n",
    "SENTIMENT.build_vocab(train_ds)\n",
    "\n",
    "print(f\"Number of tokens in training samples: {len(TWEET.vocab)}\")\n",
    "print(f\"Number of tokens in training stance labels: {len(STANCE.vocab)}\")\n",
    "print(f\"Number of tokens in training sentiment labels: {len(SENTIMENT.vocab)}\")"
   ]
  },
  {
   "cell_type": "code",
   "execution_count": 5,
   "metadata": {},
   "outputs": [
    {
     "name": "stdout",
     "output_type": "stream",
     "text": [
      "first 20 tokens:\n",
      " ['<unk>', '<pad>', '<sos>', '<eos>', '#semst', 'the', 'to', 'a', 'of', 'is', 'i', 'in', 'and', 'you', 'for', 'are', 'that', 'with', 'not', 'be']\n",
      "\n"
     ]
    }
   ],
   "source": [
    "print(f'first 20 tokens:\\n', TWEET.vocab.itos[:20], end='\\n\\n')"
   ]
  },
  {
   "cell_type": "code",
   "execution_count": 6,
   "metadata": {},
   "outputs": [
    {
     "name": "stdout",
     "output_type": "stream",
     "text": [
      "stance labels vocab:\n",
      " {'AGAINST': 0, 'FAVOR': 1, 'NONE': 2}\n",
      "sentiment labels vocab:\n",
      " {'NEGATIVE': 0, 'POSITIVE': 1, 'NEITHER': 2}\n"
     ]
    }
   ],
   "source": [
    "print(f'stance labels vocab:\\n', dict(STANCE.vocab.stoi))\n",
    "print(f'sentiment labels vocab:\\n', dict(SENTIMENT.vocab.stoi))"
   ]
  },
  {
   "cell_type": "markdown",
   "metadata": {},
   "source": [
    "# Data Loaders"
   ]
  },
  {
   "cell_type": "markdown",
   "metadata": {},
   "source": [
    "we want to be able to create batches and to iterate through the datasets for that we need to define data loaders \n"
   ]
  },
  {
   "cell_type": "code",
   "execution_count": 7,
   "metadata": {},
   "outputs": [
    {
     "name": "stderr",
     "output_type": "stream",
     "text": [
      "C:\\Users\\User\\anaconda3\\envs\\AI-project\\lib\\site-packages\\torchtext\\data\\iterator.py:48: UserWarning: BucketIterator class will be retired in the 0.8.0 release and moved to torchtext.legacy. Please see 0.7.0 release notes for further information.\n",
      "  warnings.warn('{} class will be retired in the 0.8.0 release and moved to torchtext.legacy. Please see 0.7.0 release notes for further information.'.format(self.__class__.__name__), UserWarning)\n"
     ]
    }
   ],
   "source": [
    "BATCH_SIZE = 10\n",
    "\n",
    "dl_train, dl_valid, dl_test = torchtext.data.BucketIterator.splits(\n",
    "    (train_ds, valid_ds, test_ds), batch_size=BATCH_SIZE,\n",
    "    shuffle=True, sort=False)"
   ]
  },
  {
   "cell_type": "markdown",
   "metadata": {},
   "source": [
    "this is what a single batch looks like"
   ]
  },
  {
   "cell_type": "code",
   "execution_count": 8,
   "metadata": {},
   "outputs": [
    {
     "name": "stdout",
     "output_type": "stream",
     "text": [
      "X = \n",
      " tensor([[   2,    2,    2,    2,    2,    2,    2,    2,    2,    2],\n",
      "        [ 160,   24, 1345,  861,   21,  841,   18,  757,    5,  884],\n",
      "        [1656,    9,  207,   61,  607, 1764,   28,   72, 1372, 1705],\n",
      "        [ 188,   18,  275,  133,    9,   13, 1879,    7,   16,  141],\n",
      "        [1021,  176,   13,   74,  133,   68,   18, 1763,    7,   15],\n",
      "        [1309,   21,   15, 1814,  224,    5,   28, 1317,  521,    5],\n",
      "        [  12,   13, 1064, 1371,   14,   99, 1101,   32,  136, 1636],\n",
      "        [1263,  234,  802,  152,   28,    8,  158,  455,   81,  122],\n",
      "        [1445,   44,  235,   90,  609, 1909, 1561,  223,    9, 1708],\n",
      "        [  12,    8,  421,    4,   24,   52,   24, 1567, 1573,  145],\n",
      "        [1407,    5,  120,    3,   67,   18,  261, 1270,   10,  595],\n",
      "        [ 428,   65,  236,    1,   19,  514,    9,   32,  431,    4],\n",
      "        [  13, 1917,   36,    1,  133,   74,   16, 1171,   41,    3],\n",
      "        [ 422,   16,   28,    1,  224,    6, 1757,  456,  371,    1],\n",
      "        [1377, 1389, 1577,    1,   14,   62,  598,   38,   57,    1],\n",
      "        [1393, 1608,  313,    1,  285, 1768,  751, 1625,   24,    1],\n",
      "        [  12, 1332,  205,    1,    4,   57,    4, 1125, 1025,    1],\n",
      "        [1192,    4,    4,    1,    3,   13,    3,    4,    7,    1],\n",
      "        [ 612,    3,    3,    1,    1,   62,    1,    3, 1204,    1],\n",
      "        [   4,    1,    1,    1,    1,    7,    1,    1,    7,    1],\n",
      "        [   3,    1,    1,    1,    1,  217,    1,    1, 1208,    1],\n",
      "        [   1,    1,    1,    1,    1,  336,    1,    1,    5,    1],\n",
      "        [   1,    1,    1,    1,    1,    4,    1,    1,  102,    1],\n",
      "        [   1,    1,    1,    1,    1,    3,    1,    1,   15,    1],\n",
      "        [   1,    1,    1,    1,    1,    1,    1,    1,   81,    1],\n",
      "        [   1,    1,    1,    1,    1,    1,    1,    1, 1029,    1],\n",
      "        [   1,    1,    1,    1,    1,    1,    1,    1,    4,    1],\n",
      "        [   1,    1,    1,    1,    1,    1,    1,    1,    3,    1]]) torch.Size([28, 10])\n",
      "\n",
      "y = \n",
      " tensor([0, 1, 0, 2, 0, 0, 1, 2, 0, 0]) torch.Size([10])\n"
     ]
    },
    {
     "name": "stderr",
     "output_type": "stream",
     "text": [
      "C:\\Users\\User\\anaconda3\\envs\\AI-project\\lib\\site-packages\\torchtext\\data\\batch.py:23: UserWarning: Batch class will be retired in the 0.8.0 release and moved to torchtext.legacy. Please see 0.7.0 release notes for further information.\n",
      "  warnings.warn('{} class will be retired in the 0.8.0 release and moved to torchtext.legacy. Please see 0.7.0 release notes for further information.'.format(self.__class__.__name__), UserWarning)\n"
     ]
    }
   ],
   "source": [
    "batch = next(iter(dl_train))\n",
    "\n",
    "X, y_stance, y_sentiment= batch.TWEET, batch.STANCE, batch.SENTIMENT\n",
    "print('X = \\n', X, X.shape, end='\\n\\n')\n",
    "print('y = \\n', y_stance, y_stance.shape)"
   ]
  },
  {
   "cell_type": "markdown",
   "metadata": {},
   "source": [
    "# Model Implementation"
   ]
  },
  {
   "cell_type": "markdown",
   "metadata": {},
   "source": [
    "In our problem stands the difficulties of stance detection, where the sentiment is not generic but with respect to a specific topic. \n",
    "as stated in our proposed solution we will build a RNN based deep neural network within a two-phase architecture,\n",
    "first we will experiment with a more sophisticated version of RNN which is the LSTM architecture. \n",
    "\n",
    "#### the two-phase architecture\n",
    "\n",
    "the first phase (Subjectivity classification):\n",
    "1. Layer of embedding\n",
    "2. Layer of LSTM \n",
    "3. Linear classification layer  classify (positive \\ negative \\ neutral)\n",
    "\n",
    "testing the model:"
   ]
  },
  {
   "cell_type": "code",
   "execution_count": 9,
   "metadata": {},
   "outputs": [
    {
     "name": "stdout",
     "output_type": "stream",
     "text": [
      "h (S, B, H): torch.Size([28, 10, 64])\n",
      "ht (L, B, H): torch.Size([2, 10, 64])\n",
      "out (S, B, H): torch.Size([28, 10, 3])\n"
     ]
    }
   ],
   "source": [
    "from implementations.models import SubjectivityLSTM\n",
    "\n",
    "EMB_DIM = 128\n",
    "HID_DIM = 64\n",
    "NUM_LAYERS = 2\n",
    "DROP_OUT = 0.1\n",
    "VOCAB_SIZE = len(TWEET.vocab)\n",
    "\n",
    "sub = SubjectivityLSTM(VOCAB_SIZE, EMB_DIM, HID_DIM,NUM_LAYERS,DROP_OUT)\n",
    "out, h, ht = sub(X)\n",
    "print(f'h (S, B, H): {h.shape}')\n",
    "print(f'ht (L, B, H): {ht[0].shape}')\n",
    "print(f'out (S, B, H): {out.shape}')"
   ]
  },
  {
   "cell_type": "markdown",
   "metadata": {},
   "source": [
    "\n",
    "the second phase (Stance detection):\n",
    "1. Layer of attention\n",
    "2. Layer of LSTM\n",
    "3. Linear classification layer classify (favor \\ against)."
   ]
  },
  {
   "cell_type": "code",
   "execution_count": 10,
   "metadata": {},
   "outputs": [
    {
     "name": "stdout",
     "output_type": "stream",
     "text": [
      "yhat (S, B, V_tgt): torch.Size([28, 10, 3])\n"
     ]
    }
   ],
   "source": [
    "from implementations.models import StanceLSTM\n",
    "\n",
    "stance = StanceLSTM(VOCAB_SIZE, EMB_DIM, HID_DIM,NUM_LAYERS,DROP_OUT)\n",
    "yhat, _ = stance(X, ht, h)\n",
    "print(f'yhat (S, B, V_tgt): {yhat.shape}')"
   ]
  },
  {
   "cell_type": "markdown",
   "metadata": {},
   "source": [
    "now for the model that includes both"
   ]
  },
  {
   "cell_type": "code",
   "execution_count": 11,
   "metadata": {},
   "outputs": [
    {
     "name": "stdout",
     "output_type": "stream",
     "text": [
      "y_stance: (S, B, V_tgt) = (28, 10, 3)\n",
      "y_sub: (S, B, V_tgt) = (28, 10, 3)\n"
     ]
    }
   ],
   "source": [
    "from implementations.models import TwoPhaseLSTM\n",
    "\n",
    "two_phase_model = TwoPhaseLSTM(sub, stance)\n",
    "y_stance, y_sub = two_phase_model(X)\n",
    "print('y_stance: (S, B, V_tgt) =', tuple(y_stance.shape))\n",
    "print('y_sub: (S, B, V_tgt) =', tuple(y_sub.shape))"
   ]
  },
  {
   "cell_type": "markdown",
   "metadata": {},
   "source": [
    "# training\n",
    "\n",
    "The trainnig approarch will be standard approach with CrossEntropy loss on the class scores and calculating number of correct answers for accuracy evaluation"
   ]
  },
  {
   "cell_type": "code",
   "execution_count": 13,
   "metadata": {},
   "outputs": [
    {
     "name": "stdout",
     "output_type": "stream",
     "text": [
      "=== EPOCH 1/100 ===\n",
      "train loss=0.3520396053791046,: 100%|██████████████████████████████████████████████████| 28/28 [00:01<00:00, 15.42it/s]\n",
      " sentiment accuracy=0.8999999761581421, stance accuracy=0.4000000059604645 : 100%|█████| 31/31 [00:00<00:00, 40.26it/s]\n",
      "=== EPOCH 2/100 ===\n",
      "train loss=0.715445339679718,: 100%|███████████████████████████████████████████████████| 28/28 [00:02<00:00, 12.95it/s]\n",
      " sentiment accuracy=0.30000001192092896, stance accuracy=0.30000001192092896 : 100%|███| 31/31 [00:00<00:00, 36.02it/s]\n",
      "=== EPOCH 3/100 ===\n",
      "train loss=0.18244589865207672,: 100%|█████████████████████████████████████████████████| 28/28 [00:02<00:00, 12.09it/s]\n",
      " sentiment accuracy=0.699999988079071, stance accuracy=0.4000000059604645 : 100%|██████| 31/31 [00:00<00:00, 38.90it/s]\n",
      "=== EPOCH 4/100 ===\n",
      "train loss=0.2815021872520447,: 100%|██████████████████████████████████████████████████| 28/28 [00:02<00:00, 11.74it/s]\n",
      " sentiment accuracy=0.699999988079071, stance accuracy=0.20000000298023224 : 100%|█████| 31/31 [00:00<00:00, 38.19it/s]\n",
      "=== EPOCH 5/100 ===\n",
      "train loss=0.8019768595695496,: 100%|██████████████████████████████████████████████████| 28/28 [00:02<00:00, 11.53it/s]\n",
      " sentiment accuracy=0.4000000059604645, stance accuracy=0.20000000298023224 : 100%|████| 31/31 [00:00<00:00, 38.90it/s]\n",
      "=== EPOCH 6/100 ===\n",
      "train loss=1.0051556825637817,: 100%|██████████████████████████████████████████████████| 28/28 [00:02<00:00, 12.21it/s]\n",
      " sentiment accuracy=0.4000000059604645, stance accuracy=0.20000000298023224 : 100%|████| 31/31 [00:00<00:00, 39.30it/s]\n",
      "=== EPOCH 7/100 ===\n",
      "train loss=0.33123481273651123,: 100%|█████████████████████████████████████████████████| 28/28 [00:02<00:00, 11.42it/s]\n",
      " sentiment accuracy=0.4000000059604645, stance accuracy=0.20000000298023224 : 100%|████| 31/31 [00:00<00:00, 39.40it/s]\n",
      "=== EPOCH 8/100 ===\n",
      "train loss=0.7108923196792603,: 100%|██████████████████████████████████████████████████| 28/28 [00:02<00:00, 11.47it/s]\n",
      " sentiment accuracy=0.6000000238418579, stance accuracy=0.10000000149011612 : 100%|████| 31/31 [00:00<00:00, 38.23it/s]\n",
      "=== EPOCH 9/100 ===\n",
      "train loss=0.4637832045555115,: 100%|██████████████████████████████████████████████████| 28/28 [00:02<00:00, 10.64it/s]\n",
      " sentiment accuracy=0.6000000238418579, stance accuracy=0.20000000298023224 : 100%|████| 31/31 [00:00<00:00, 35.48it/s]\n",
      "=== EPOCH 10/100 ===\n",
      "train loss=0.1485435515642166,: 100%|██████████████████████████████████████████████████| 28/28 [00:02<00:00,  9.70it/s]\n",
      " sentiment accuracy=0.5, stance accuracy=0.20000000298023224 : 100%|███████████████████| 31/31 [00:00<00:00, 38.37it/s]\n",
      "=== EPOCH 11/100 ===\n",
      "train loss=0.1463642418384552,: 100%|██████████████████████████████████████████████████| 28/28 [00:02<00:00, 11.48it/s]\n",
      " sentiment accuracy=1.0, stance accuracy=0.0 : 100%|███████████████████████████████████| 31/31 [00:00<00:00, 34.92it/s]\n",
      "=== EPOCH 12/100 ===\n",
      "train loss=0.15302497148513794,: 100%|█████████████████████████████████████████████████| 28/28 [00:02<00:00, 10.77it/s]\n",
      " sentiment accuracy=0.800000011920929, stance accuracy=0.4000000059604645 : 100%|██████| 31/31 [00:00<00:00, 36.35it/s]\n",
      "=== EPOCH 13/100 ===\n",
      "train loss=0.055768657475709915,: 100%|████████████████████████████████████████████████| 28/28 [00:02<00:00, 10.80it/s]\n",
      " sentiment accuracy=0.6000000238418579, stance accuracy=0.4000000059604645 : 100%|█████| 31/31 [00:00<00:00, 36.83it/s]\n",
      "=== EPOCH 14/100 ===\n",
      "train loss=0.21108046174049377,: 100%|█████████████████████████████████████████████████| 28/28 [00:02<00:00, 11.35it/s]\n",
      " sentiment accuracy=0.30000001192092896, stance accuracy=0.10000000149011612 : 100%|███| 31/31 [00:00<00:00, 35.56it/s]\n",
      "=== EPOCH 15/100 ===\n",
      "train loss=0.5492209196090698,: 100%|██████████████████████████████████████████████████| 28/28 [00:02<00:00, 11.59it/s]\n",
      " sentiment accuracy=0.5, stance accuracy=0.30000001192092896 : 100%|███████████████████| 31/31 [00:00<00:00, 37.27it/s]\n",
      "=== EPOCH 16/100 ===\n",
      "train loss=0.2273966521024704,: 100%|██████████████████████████████████████████████████| 28/28 [00:02<00:00, 10.85it/s]\n",
      " sentiment accuracy=0.6000000238418579, stance accuracy=0.4000000059604645 : 100%|█████| 31/31 [00:00<00:00, 33.46it/s]\n",
      "=== EPOCH 17/100 ===\n",
      "train loss=0.5169323086738586,: 100%|██████████████████████████████████████████████████| 28/28 [00:02<00:00,  9.91it/s]\n",
      " sentiment accuracy=0.5, stance accuracy=0.20000000298023224 : 100%|███████████████████| 31/31 [00:00<00:00, 35.69it/s]\n",
      "=== EPOCH 18/100 ===\n",
      "train loss=0.6349220275878906,: 100%|██████████████████████████████████████████████████| 28/28 [00:02<00:00, 10.07it/s]\n",
      " sentiment accuracy=0.5, stance accuracy=0.6000000238418579 : 100%|████████████████████| 31/31 [00:00<00:00, 35.24it/s]\n",
      "=== EPOCH 19/100 ===\n",
      "train loss=0.5440225601196289,: 100%|██████████████████████████████████████████████████| 28/28 [00:02<00:00, 11.07it/s]\n",
      " sentiment accuracy=0.699999988079071, stance accuracy=0.4000000059604645 : 100%|██████| 31/31 [00:00<00:00, 36.40it/s]\n",
      "=== EPOCH 20/100 ===\n",
      "train loss=0.19711259007453918,: 100%|█████████████████████████████████████████████████| 28/28 [00:02<00:00, 10.78it/s]\n",
      " sentiment accuracy=0.699999988079071, stance accuracy=0.20000000298023224 : 100%|█████| 31/31 [00:00<00:00, 36.57it/s]\n",
      "=== EPOCH 21/100 ===\n",
      "train loss=0.49544110894203186,: 100%|█████████████████████████████████████████████████| 28/28 [00:02<00:00, 10.94it/s]\n",
      " sentiment accuracy=0.699999988079071, stance accuracy=0.30000001192092896 : 100%|█████| 31/31 [00:00<00:00, 35.32it/s]\n",
      "=== EPOCH 22/100 ===\n",
      "train loss=0.5434461832046509,: 100%|██████████████████████████████████████████████████| 28/28 [00:02<00:00, 10.41it/s]\n",
      " sentiment accuracy=0.4000000059604645, stance accuracy=0.800000011920929 : 100%|██████| 31/31 [00:00<00:00, 37.54it/s]\n",
      "=== EPOCH 23/100 ===\n",
      "train loss=0.4079107642173767,: 100%|██████████████████████████████████████████████████| 28/28 [00:02<00:00, 11.42it/s]\n",
      " sentiment accuracy=0.30000001192092896, stance accuracy=0.5 : 100%|███████████████████| 31/31 [00:00<00:00, 35.28it/s]\n",
      "=== EPOCH 24/100 ===\n",
      "train loss=0.13833871483802795,: 100%|█████████████████████████████████████████████████| 28/28 [00:02<00:00, 10.72it/s]\n",
      " sentiment accuracy=0.5, stance accuracy=0.5 : 100%|███████████████████████████████████| 31/31 [00:00<00:00, 36.04it/s]\n",
      "=== EPOCH 25/100 ===\n",
      "train loss=0.3897797465324402,: 100%|██████████████████████████████████████████████████| 28/28 [00:02<00:00, 10.24it/s]\n",
      " sentiment accuracy=0.6000000238418579, stance accuracy=0.30000001192092896 : 100%|████| 31/31 [00:00<00:00, 36.53it/s]\n",
      "=== EPOCH 26/100 ===\n",
      "train loss=0.10791593790054321,: 100%|█████████████████████████████████████████████████| 28/28 [00:02<00:00, 10.39it/s]\n",
      " sentiment accuracy=0.6000000238418579, stance accuracy=0.5 : 100%|████████████████████| 31/31 [00:00<00:00, 33.90it/s]\n",
      "=== EPOCH 27/100 ===\n",
      "train loss=0.09747113287448883,: 100%|█████████████████████████████████████████████████| 28/28 [00:02<00:00, 10.11it/s]\n",
      " sentiment accuracy=0.5, stance accuracy=0.30000001192092896 : 100%|███████████████████| 31/31 [00:00<00:00, 32.82it/s]\n",
      "=== EPOCH 28/100 ===\n",
      "train loss=0.076400987803936,: 100%|███████████████████████████████████████████████████| 28/28 [00:03<00:00,  9.19it/s]\n",
      " sentiment accuracy=0.4000000059604645, stance accuracy=0.699999988079071 : 100%|██████| 31/31 [00:00<00:00, 33.97it/s]\n",
      "=== EPOCH 29/100 ===\n",
      "train loss=0.07154277712106705,: 100%|█████████████████████████████████████████████████| 28/28 [00:03<00:00,  9.23it/s]\n",
      " sentiment accuracy=0.699999988079071, stance accuracy=0.6000000238418579 : 100%|██████| 31/31 [00:00<00:00, 36.31it/s]\n",
      "=== EPOCH 30/100 ===\n",
      "train loss=0.08527036756277084,: 100%|█████████████████████████████████████████████████| 28/28 [00:02<00:00,  9.79it/s]\n",
      " sentiment accuracy=0.800000011920929, stance accuracy=0.5 : 100%|█████████████████████| 31/31 [00:00<00:00, 34.92it/s]\n",
      "=== EPOCH 31/100 ===\n",
      "train loss=0.04942644387483597,: 100%|█████████████████████████████████████████████████| 28/28 [00:03<00:00,  9.27it/s]\n",
      " sentiment accuracy=0.699999988079071, stance accuracy=0.6000000238418579 : 100%|██████| 31/31 [00:00<00:00, 34.38it/s]\n",
      "=== EPOCH 32/100 ===\n",
      "train loss=0.5571810603141785,: 100%|██████████████████████████████████████████████████| 28/28 [00:03<00:00,  9.16it/s]\n",
      " sentiment accuracy=0.6000000238418579, stance accuracy=0.5 : 100%|████████████████████| 31/31 [00:00<00:00, 36.23it/s]\n",
      "=== EPOCH 33/100 ===\n",
      "train loss=0.05382918193936348,: 100%|█████████████████████████████████████████████████| 28/28 [00:03<00:00,  9.00it/s]\n",
      " sentiment accuracy=0.699999988079071, stance accuracy=0.4000000059604645 : 100%|██████| 31/31 [00:00<00:00, 34.89it/s]\n",
      "=== EPOCH 34/100 ===\n",
      "train loss=0.35296109318733215,: 100%|█████████████████████████████████████████████████| 28/28 [00:03<00:00,  9.09it/s]\n",
      " sentiment accuracy=0.5, stance accuracy=0.30000001192092896 : 100%|███████████████████| 31/31 [00:00<00:00, 34.31it/s]\n",
      "=== EPOCH 35/100 ===\n",
      "train loss=0.01985285058617592,: 100%|█████████████████████████████████████████████████| 28/28 [00:03<00:00,  8.50it/s]\n",
      " sentiment accuracy=0.5, stance accuracy=0.20000000298023224 : 100%|███████████████████| 31/31 [00:01<00:00, 28.26it/s]\n",
      "=== EPOCH 36/100 ===\n",
      "train loss=0.5517618060112,: 100%|█████████████████████████████████████████████████████| 28/28 [00:03<00:00,  7.94it/s]\n",
      " sentiment accuracy=0.6000000238418579, stance accuracy=0.30000001192092896 : 100%|████| 31/31 [00:00<00:00, 41.95it/s]\n",
      "=== EPOCH 37/100 ===\n",
      "train loss=0.1770874410867691,: 100%|██████████████████████████████████████████████████| 28/28 [00:02<00:00,  9.46it/s]\n",
      " sentiment accuracy=0.699999988079071, stance accuracy=0.10000000149011612 : 100%|█████| 31/31 [00:00<00:00, 31.98it/s]\n",
      "=== EPOCH 38/100 ===\n",
      "train loss=0.050135958939790726,: 100%|████████████████████████████████████████████████| 28/28 [00:03<00:00,  8.55it/s]\n",
      " sentiment accuracy=1.0, stance accuracy=0.0 : 100%|███████████████████████████████████| 31/31 [00:00<00:00, 46.88it/s]\n",
      "=== EPOCH 39/100 ===\n",
      "train loss=0.12440906465053558,: 100%|█████████████████████████████████████████████████| 28/28 [00:03<00:00,  7.12it/s]\n",
      " sentiment accuracy=0.800000011920929, stance accuracy=0.20000000298023224 : 100%|█████| 31/31 [00:00<00:00, 34.96it/s]\n",
      "=== EPOCH 40/100 ===\n",
      "train loss=0.5238921046257019,: 100%|██████████████████████████████████████████████████| 28/28 [00:03<00:00,  7.74it/s]\n",
      " sentiment accuracy=0.5, stance accuracy=0.30000001192092896 : 100%|███████████████████| 31/31 [00:00<00:00, 32.55it/s]\n",
      "=== EPOCH 41/100 ===\n",
      "train loss=0.0870845690369606,: 100%|██████████████████████████████████████████████████| 28/28 [00:03<00:00,  8.64it/s]\n",
      " sentiment accuracy=0.5, stance accuracy=0.20000000298023224 : 100%|███████████████████| 31/31 [00:00<00:00, 37.49it/s]\n",
      "=== EPOCH 42/100 ===\n",
      "train loss=0.04101956635713577,: 100%|█████████████████████████████████████████████████| 28/28 [00:03<00:00,  8.48it/s]\n",
      " sentiment accuracy=0.30000001192092896, stance accuracy=0.4000000059604645 : 100%|████| 31/31 [00:00<00:00, 35.48it/s]\n",
      "=== EPOCH 43/100 ===\n",
      "train loss=0.33828556537628174,: 100%|█████████████████████████████████████████████████| 28/28 [00:03<00:00,  8.41it/s]\n",
      " sentiment accuracy=0.6000000238418579, stance accuracy=0.4000000059604645 : 100%|█████| 31/31 [00:00<00:00, 43.05it/s]\n",
      "=== EPOCH 44/100 ===\n",
      "train loss=0.02440815232694149,: 100%|█████████████████████████████████████████████████| 28/28 [00:03<00:00,  7.88it/s]\n",
      " sentiment accuracy=0.699999988079071, stance accuracy=0.20000000298023224 : 100%|█████| 31/31 [00:00<00:00, 40.63it/s]\n",
      "=== EPOCH 45/100 ===\n",
      "train loss=0.042738817632198334,: 100%|████████████████████████████████████████████████| 28/28 [00:03<00:00,  8.49it/s]\n",
      " sentiment accuracy=0.8999999761581421, stance accuracy=0.4000000059604645 : 100%|█████| 31/31 [00:00<00:00, 46.19it/s]\n",
      "=== EPOCH 46/100 ===\n",
      "train loss=0.8404859304428101,: 100%|██████████████████████████████████████████████████| 28/28 [00:02<00:00, 10.61it/s]\n",
      " sentiment accuracy=0.6000000238418579, stance accuracy=0.30000001192092896 : 100%|████| 31/31 [00:00<00:00, 52.15it/s]\n",
      "=== EPOCH 47/100 ===\n",
      "train loss=0.10129000246524811,: 100%|█████████████████████████████████████████████████| 28/28 [00:02<00:00, 10.33it/s]\n",
      " sentiment accuracy=0.5, stance accuracy=0.10000000149011612 : 100%|███████████████████| 31/31 [00:00<00:00, 39.55it/s]\n",
      "=== EPOCH 48/100 ===\n",
      "train loss=0.027365844696760178,: 100%|████████████████████████████████████████████████| 28/28 [00:03<00:00,  8.20it/s]\n",
      " sentiment accuracy=0.800000011920929, stance accuracy=0.4000000059604645 : 100%|██████| 31/31 [00:00<00:00, 49.26it/s]\n",
      "=== EPOCH 49/100 ===\n",
      "train loss=0.008993025869131088,: 100%|████████████████████████████████████████████████| 28/28 [00:03<00:00,  9.06it/s]\n",
      " sentiment accuracy=0.800000011920929, stance accuracy=0.20000000298023224 : 100%|█████| 31/31 [00:00<00:00, 43.35it/s]\n",
      "=== EPOCH 50/100 ===\n",
      "train loss=0.5043498873710632,: 100%|██████████████████████████████████████████████████| 28/28 [00:03<00:00,  8.29it/s]\n",
      " sentiment accuracy=0.5, stance accuracy=0.20000000298023224 : 100%|███████████████████| 31/31 [00:00<00:00, 50.71it/s]\n",
      "=== EPOCH 51/100 ===\n",
      "train loss=0.016453081741929054,: 100%|████████████████████████████████████████████████| 28/28 [00:02<00:00, 10.35it/s]\n",
      " sentiment accuracy=0.5, stance accuracy=0.6000000238418579 : 100%|████████████████████| 31/31 [00:01<00:00, 29.38it/s]\n",
      "=== EPOCH 52/100 ===\n",
      "train loss=0.09044115245342255,: 100%|█████████████████████████████████████████████████| 28/28 [00:03<00:00,  7.63it/s]\n",
      " sentiment accuracy=0.800000011920929, stance accuracy=0.4000000059604645 : 100%|██████| 31/31 [00:00<00:00, 36.44it/s]\n",
      "=== EPOCH 53/100 ===\n",
      "train loss=0.07441743463277817,: 100%|█████████████████████████████████████████████████| 28/28 [00:04<00:00,  6.00it/s]\n",
      " sentiment accuracy=0.6000000238418579, stance accuracy=0.30000001192092896 : 100%|████| 31/31 [00:01<00:00, 21.58it/s]\n",
      "=== EPOCH 54/100 ===\n",
      "train loss=0.006671926472336054,: 100%|████████████████████████████████████████████████| 28/28 [00:03<00:00,  9.17it/s]\n",
      " sentiment accuracy=0.5, stance accuracy=0.20000000298023224 : 100%|███████████████████| 31/31 [00:00<00:00, 45.94it/s]\n",
      "=== EPOCH 55/100 ===\n",
      "train loss=0.008238164708018303,: 100%|████████████████████████████████████████████████| 28/28 [00:02<00:00, 10.00it/s]\n",
      " sentiment accuracy=0.6000000238418579, stance accuracy=0.30000001192092896 : 100%|████| 31/31 [00:00<00:00, 50.71it/s]\n",
      "=== EPOCH 56/100 ===\n",
      "train loss=0.017541592940688133,: 100%|████████████████████████████████████████████████| 28/28 [00:02<00:00, 10.14it/s]\n",
      " sentiment accuracy=0.800000011920929, stance accuracy=0.30000001192092896 : 100%|█████| 31/31 [00:00<00:00, 46.25it/s]\n",
      "=== EPOCH 57/100 ===\n",
      "train loss=0.13844174146652222,: 100%|█████████████████████████████████████████████████| 28/28 [00:02<00:00, 10.27it/s]\n",
      " sentiment accuracy=0.699999988079071, stance accuracy=0.20000000298023224 : 100%|█████| 31/31 [00:00<00:00, 50.30it/s]\n",
      "=== EPOCH 58/100 ===\n",
      "train loss=0.020034372806549072,: 100%|████████████████████████████████████████████████| 28/28 [00:02<00:00, 10.40it/s]\n",
      " sentiment accuracy=0.800000011920929, stance accuracy=0.20000000298023224 : 100%|█████| 31/31 [00:00<00:00, 44.85it/s]\n",
      "=== EPOCH 59/100 ===\n",
      "train loss=0.0366884246468544,: 100%|██████████████████████████████████████████████████| 28/28 [00:02<00:00, 10.46it/s]\n",
      " sentiment accuracy=0.800000011920929, stance accuracy=0.30000001192092896 : 100%|█████| 31/31 [00:00<00:00, 49.10it/s]\n",
      "=== EPOCH 60/100 ===\n",
      "train loss=0.0701211616396904,: 100%|██████████████████████████████████████████████████| 28/28 [00:02<00:00, 11.06it/s]\n",
      " sentiment accuracy=0.800000011920929, stance accuracy=0.30000001192092896 : 100%|█████| 31/31 [00:00<00:00, 50.13it/s]\n",
      "=== EPOCH 61/100 ===\n",
      "train loss=0.25467202067375183,: 100%|█████████████████████████████████████████████████| 28/28 [00:02<00:00, 10.51it/s]\n",
      " sentiment accuracy=0.6000000238418579, stance accuracy=0.30000001192092896 : 100%|████| 31/31 [00:00<00:00, 46.53it/s]\n",
      "=== EPOCH 62/100 ===\n",
      "train loss=0.2788253426551819,: 100%|██████████████████████████████████████████████████| 28/28 [00:02<00:00, 11.31it/s]\n",
      " sentiment accuracy=0.800000011920929, stance accuracy=0.5 : 100%|█████████████████████| 31/31 [00:00<00:00, 45.58it/s]\n",
      "=== EPOCH 63/100 ===\n",
      "train loss=0.1534000039100647,: 100%|██████████████████████████████████████████████████| 28/28 [00:02<00:00, 11.27it/s]\n",
      " sentiment accuracy=0.30000001192092896, stance accuracy=0.20000000298023224 : 100%|███| 31/31 [00:00<00:00, 44.66it/s]\n",
      "=== EPOCH 64/100 ===\n",
      "train loss=0.03554967790842056,: 100%|█████████████████████████████████████████████████| 28/28 [00:02<00:00, 11.96it/s]\n",
      " sentiment accuracy=0.30000001192092896, stance accuracy=0.30000001192092896 : 100%|███| 31/31 [00:00<00:00, 40.79it/s]\n",
      "=== EPOCH 65/100 ===\n",
      "train loss=0.4307544231414795,: 100%|██████████████████████████████████████████████████| 28/28 [00:02<00:00, 10.40it/s]\n",
      " sentiment accuracy=0.699999988079071, stance accuracy=0.30000001192092896 : 100%|█████| 31/31 [00:00<00:00, 46.95it/s]\n",
      "=== EPOCH 66/100 ===\n",
      "train loss=0.09476015716791153,: 100%|█████████████████████████████████████████████████| 28/28 [00:02<00:00, 11.32it/s]\n",
      " sentiment accuracy=0.699999988079071, stance accuracy=0.5 : 100%|█████████████████████| 31/31 [00:00<00:00, 48.57it/s]\n",
      "=== EPOCH 67/100 ===\n",
      "train loss=0.2538352906703949,: 100%|██████████████████████████████████████████████████| 28/28 [00:02<00:00, 11.55it/s]\n",
      " sentiment accuracy=0.800000011920929, stance accuracy=0.20000000298023224 : 100%|█████| 31/31 [00:00<00:00, 50.96it/s]\n",
      "=== EPOCH 68/100 ===\n",
      "train loss=0.020874742418527603,: 100%|████████████████████████████████████████████████| 28/28 [00:02<00:00, 11.38it/s]\n",
      " sentiment accuracy=0.5, stance accuracy=0.5 : 100%|███████████████████████████████████| 31/31 [00:00<00:00, 52.86it/s]\n",
      "=== EPOCH 69/100 ===\n",
      "train loss=0.0036085466854274273,: 100%|███████████████████████████████████████████████| 28/28 [00:02<00:00, 10.98it/s]\n",
      " sentiment accuracy=1.0, stance accuracy=0.0 : 100%|███████████████████████████████████| 31/31 [00:00<00:00, 52.15it/s]\n",
      "=== EPOCH 70/100 ===\n",
      "train loss=0.15370282530784607,: 100%|█████████████████████████████████████████████████| 28/28 [00:02<00:00, 11.27it/s]\n",
      " sentiment accuracy=0.699999988079071, stance accuracy=0.30000001192092896 : 100%|█████| 31/31 [00:00<00:00, 50.21it/s]\n",
      "=== EPOCH 71/100 ===\n",
      "train loss=0.005185578018426895,: 100%|████████████████████████████████████████████████| 28/28 [00:02<00:00, 11.49it/s]\n",
      " sentiment accuracy=0.6000000238418579, stance accuracy=0.20000000298023224 : 100%|████| 31/31 [00:00<00:00, 50.96it/s]\n",
      "=== EPOCH 72/100 ===\n",
      "train loss=0.017887558788061142,: 100%|████████████████████████████████████████████████| 28/28 [00:02<00:00, 11.10it/s]\n",
      " sentiment accuracy=0.699999988079071, stance accuracy=0.30000001192092896 : 100%|█████| 31/31 [00:00<00:00, 50.96it/s]\n",
      "=== EPOCH 73/100 ===\n",
      "train loss=0.060596682131290436,: 100%|████████████████████████████████████████████████| 28/28 [00:02<00:00, 11.61it/s]\n",
      " sentiment accuracy=1.0, stance accuracy=0.10000000149011612 : 100%|███████████████████| 31/31 [00:00<00:00, 50.79it/s]\n",
      "=== EPOCH 74/100 ===\n",
      "train loss=0.15760532021522522,: 100%|█████████████████████████████████████████████████| 28/28 [00:02<00:00, 10.70it/s]\n",
      " sentiment accuracy=0.5, stance accuracy=0.10000000149011612 : 100%|███████████████████| 31/31 [00:00<00:00, 40.26it/s]\n",
      "=== EPOCH 75/100 ===\n",
      "train loss=0.003110699588432908,: 100%|████████████████████████████████████████████████| 28/28 [00:04<00:00,  6.05it/s]\n",
      " sentiment accuracy=0.699999988079071, stance accuracy=0.10000000149011612 : 100%|█████| 31/31 [00:00<00:00, 33.86it/s]\n",
      "=== EPOCH 76/100 ===\n",
      "train loss=0.022925924509763718,: 100%|████████████████████████████████████████████████| 28/28 [00:03<00:00,  7.04it/s]\n",
      " sentiment accuracy=0.6000000238418579, stance accuracy=0.5 : 100%|████████████████████| 31/31 [00:00<00:00, 40.58it/s]\n",
      "=== EPOCH 77/100 ===\n",
      "train loss=0.002133022528141737,: 100%|████████████████████████████████████████████████| 28/28 [00:02<00:00, 10.53it/s]\n",
      " sentiment accuracy=1.0, stance accuracy=1.0 : 100%|███████████████████████████████████| 31/31 [00:00<00:00, 53.96it/s]\n",
      "=== EPOCH 78/100 ===\n",
      "train loss=0.0019120011711493134,: 100%|███████████████████████████████████████████████| 28/28 [00:02<00:00, 10.77it/s]\n",
      " sentiment accuracy=0.4000000059604645, stance accuracy=0.699999988079071 : 100%|██████| 31/31 [00:00<00:00, 52.24it/s]\n",
      "=== EPOCH 79/100 ===\n",
      "train loss=0.009856551885604858,: 100%|████████████████████████████████████████████████| 28/28 [00:02<00:00, 11.23it/s]\n",
      " sentiment accuracy=0.5, stance accuracy=0.4000000059604645 : 100%|████████████████████| 31/31 [00:00<00:00, 54.72it/s]\n",
      "=== EPOCH 80/100 ===\n",
      "train loss=0.005511139519512653,: 100%|████████████████████████████████████████████████| 28/28 [00:02<00:00, 11.13it/s]\n",
      " sentiment accuracy=0.699999988079071, stance accuracy=0.20000000298023224 : 100%|█████| 31/31 [00:00<00:00, 53.78it/s]\n",
      "=== EPOCH 81/100 ===\n",
      "train loss=0.005804421380162239,: 100%|████████████████████████████████████████████████| 28/28 [00:02<00:00, 11.66it/s]\n",
      " sentiment accuracy=0.699999988079071, stance accuracy=0.20000000298023224 : 100%|█████| 31/31 [00:00<00:00, 52.95it/s]\n",
      "=== EPOCH 82/100 ===\n",
      "train loss=0.0022014628630131483,: 100%|███████████████████████████████████████████████| 28/28 [00:02<00:00,  9.73it/s]\n",
      " sentiment accuracy=0.800000011920929, stance accuracy=0.10000000149011612 : 100%|█████| 31/31 [00:00<00:00, 44.21it/s]\n",
      "=== EPOCH 83/100 ===\n",
      "train loss=0.0015656944597139955,: 100%|███████████████████████████████████████████████| 28/28 [00:02<00:00,  9.97it/s]\n",
      " sentiment accuracy=0.5, stance accuracy=0.5 : 100%|███████████████████████████████████| 31/31 [00:00<00:00, 43.72it/s]\n",
      "=== EPOCH 84/100 ===\n",
      "train loss=0.007603788282722235,: 100%|████████████████████████████████████████████████| 28/28 [00:02<00:00, 10.50it/s]\n",
      " sentiment accuracy=0.5, stance accuracy=0.20000000298023224 : 100%|███████████████████| 31/31 [00:00<00:00, 48.27it/s]\n",
      "=== EPOCH 85/100 ===\n",
      "train loss=0.0006519948365166783,: 100%|███████████████████████████████████████████████| 28/28 [00:02<00:00, 10.67it/s]\n",
      " sentiment accuracy=0.699999988079071, stance accuracy=0.5 : 100%|█████████████████████| 31/31 [00:00<00:00, 49.97it/s]\n",
      "=== EPOCH 86/100 ===\n",
      "train loss=0.00890141911804676,: 100%|█████████████████████████████████████████████████| 28/28 [00:03<00:00,  8.38it/s]\n",
      " sentiment accuracy=0.8999999761581421, stance accuracy=0.20000000298023224 : 100%|████| 31/31 [00:00<00:00, 47.31it/s]\n",
      "=== EPOCH 87/100 ===\n",
      "train loss=0.0011851273011416197,: 100%|███████████████████████████████████████████████| 28/28 [00:02<00:00,  9.74it/s]\n",
      " sentiment accuracy=0.699999988079071, stance accuracy=0.4000000059604645 : 100%|██████| 31/31 [00:00<00:00, 38.28it/s]\n",
      "=== EPOCH 88/100 ===\n",
      "train loss=0.0014859484508633614,: 100%|███████████████████████████████████████████████| 28/28 [00:02<00:00,  9.44it/s]\n",
      " sentiment accuracy=1.0, stance accuracy=0.0 : 100%|███████████████████████████████████| 31/31 [00:00<00:00, 40.47it/s]\n",
      "=== EPOCH 89/100 ===\n",
      "train loss=0.011527558788657188,: 100%|████████████████████████████████████████████████| 28/28 [00:03<00:00,  8.16it/s]\n",
      " sentiment accuracy=0.4000000059604645, stance accuracy=0.4000000059604645 : 100%|█████| 31/31 [00:00<00:00, 45.84it/s]\n",
      "=== EPOCH 90/100 ===\n",
      "train loss=0.0013171086320653558,: 100%|███████████████████████████████████████████████| 28/28 [00:03<00:00,  9.20it/s]\n",
      " sentiment accuracy=0.4000000059604645, stance accuracy=0.5 : 100%|████████████████████| 31/31 [00:00<00:00, 47.02it/s]\n",
      "=== EPOCH 91/100 ===\n",
      "train loss=0.0026397877372801304,: 100%|███████████████████████████████████████████████| 28/28 [00:02<00:00,  9.72it/s]\n",
      " sentiment accuracy=0.800000011920929, stance accuracy=0.30000001192092896 : 100%|█████| 31/31 [00:00<00:00, 47.45it/s]\n",
      "=== EPOCH 92/100 ===\n",
      "train loss=0.0003227551351301372,: 100%|███████████████████████████████████████████████| 28/28 [00:02<00:00, 10.39it/s]\n",
      " sentiment accuracy=0.5, stance accuracy=0.30000001192092896 : 100%|███████████████████| 31/31 [00:00<00:00, 41.67it/s]\n",
      "=== EPOCH 93/100 ===\n",
      "train loss=0.0010440313490107656,: 100%|███████████████████████████████████████████████| 28/28 [00:03<00:00,  8.57it/s]\n",
      " sentiment accuracy=0.6000000238418579, stance accuracy=0.4000000059604645 : 100%|█████| 31/31 [00:00<00:00, 46.88it/s]\n",
      "=== EPOCH 94/100 ===\n",
      "train loss=0.009005739353597164,: 100%|████████████████████████████████████████████████| 28/28 [00:02<00:00, 10.24it/s]\n",
      " sentiment accuracy=0.699999988079071, stance accuracy=0.30000001192092896 : 100%|█████| 31/31 [00:00<00:00, 48.19it/s]\n",
      "=== EPOCH 95/100 ===\n",
      "train loss=0.002023656154051423,: 100%|████████████████████████████████████████████████| 28/28 [00:02<00:00,  9.64it/s]\n",
      " sentiment accuracy=0.6000000238418579, stance accuracy=0.5 : 100%|████████████████████| 31/31 [00:00<00:00, 43.05it/s]\n",
      "=== EPOCH 96/100 ===\n",
      "train loss=0.008526359684765339,: 100%|████████████████████████████████████████████████| 28/28 [00:02<00:00, 10.10it/s]\n",
      " sentiment accuracy=0.4000000059604645, stance accuracy=0.10000000149011612 : 100%|████| 31/31 [00:00<00:00, 45.11it/s]\n",
      "=== EPOCH 97/100 ===\n",
      "train loss=0.0016802357276901603,: 100%|███████████████████████████████████████████████| 28/28 [00:02<00:00, 10.06it/s]\n",
      " sentiment accuracy=0.800000011920929, stance accuracy=0.30000001192092896 : 100%|█████| 31/31 [00:00<00:00, 43.78it/s]\n",
      "=== EPOCH 98/100 ===\n",
      "train loss=0.005077202804386616,: 100%|████████████████████████████████████████████████| 28/28 [00:02<00:00,  9.99it/s]\n",
      " sentiment accuracy=0.6000000238418579, stance accuracy=0.20000000298023224 : 100%|████| 31/31 [00:00<00:00, 44.34it/s]\n",
      "=== EPOCH 99/100 ===\n",
      "train loss=0.001968046650290489,: 100%|████████████████████████████████████████████████| 28/28 [00:02<00:00,  9.50it/s]\n",
      " sentiment accuracy=0.800000011920929, stance accuracy=0.20000000298023224 : 100%|█████| 31/31 [00:00<00:00, 42.93it/s]\n",
      "=== EPOCH 100/100 ===\n",
      "train loss=0.0006400480633601546,: 100%|███████████████████████████████████████████████| 28/28 [00:02<00:00, 10.12it/s]\n",
      " sentiment accuracy=0.0, stance accuracy=0.0 : 100%|███████████████████████████████████| 31/31 [00:00<00:00, 46.60it/s]\n"
     ]
    }
   ],
   "source": [
    "from implementations.training import train_two_phase_rnn\n",
    "from implementations.training import eval_two_phase_rnn\n",
    "import torch.nn as nn\n",
    "\n",
    "EPOCHS = 100\n",
    "BATCHES_PER_EPOCH=28\n",
    "LR=1e-2\n",
    "\n",
    "optimizer = torch.optim.Adam(two_phase_model.parameters(), lr=LR)\n",
    "sub_loss_fn = nn.NLLLoss()\n",
    "stance_loss_fn = nn.NLLLoss()\n",
    "\n",
    "losses = []\n",
    "sub_accuracies = []\n",
    "stance_accuracies = []\n",
    "for epoch in range(EPOCHS):\n",
    "    \n",
    "    print(f'=== EPOCH {epoch+1}/{EPOCHS} ===')\n",
    "    losses += train_two_phase_rnn(two_phase_model, dl_train, optimizer, sub_loss_fn, stance_loss_fn, BATCHES_PER_EPOCH)\n",
    "    sub_acc, stance_acc = eval_two_phase_rnn(two_phase_model, dl_valid)\n",
    "    sub_accuracies += sub_acc\n",
    "    stance_accuracies += stance_acc\n"
   ]
  },
  {
   "cell_type": "code",
   "execution_count": null,
   "metadata": {},
   "outputs": [],
   "source": []
  }
 ],
 "metadata": {
  "kernelspec": {
   "display_name": "Python 3",
   "language": "python",
   "name": "python3"
  },
  "language_info": {
   "codemirror_mode": {
    "name": "ipython",
    "version": 3
   },
   "file_extension": ".py",
   "mimetype": "text/x-python",
   "name": "python",
   "nbconvert_exporter": "python",
   "pygments_lexer": "ipython3",
   "version": "3.8.6"
  }
 },
 "nbformat": 4,
 "nbformat_minor": 4
}
