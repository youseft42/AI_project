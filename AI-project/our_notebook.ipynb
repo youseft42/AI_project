{
 "cells": [
  {
   "cell_type": "markdown",
   "metadata": {},
   "source": [
    "$$\n",
    "\\newcommand{\\mat}[1]{\\boldsymbol {#1}}\n",
    "\\newcommand{\\mattr}[1]{\\boldsymbol {#1}^\\top}\n",
    "\\newcommand{\\matinv}[1]{\\boldsymbol {#1}^{-1}}\n",
    "\\newcommand{\\vec}[1]{\\boldsymbol {#1}}\n",
    "\\newcommand{\\vectr}[1]{\\boldsymbol {#1}^\\top}\n",
    "\\newcommand{\\rvar}[1]{\\mathrm {#1}}\n",
    "\\newcommand{\\rvec}[1]{\\boldsymbol{\\mathrm{#1}}}\n",
    "\\newcommand{\\diag}{\\mathop{\\mathrm {diag}}}\n",
    "\\newcommand{\\set}[1]{\\mathbb {#1}}\n",
    "\\newcommand{\\norm}[1]{\\left\\lVert#1\\right\\rVert}\n",
    "\\newcommand{\\pderiv}[2]{\\frac{\\partial #1}{\\partial #2}}\n",
    "\\newcommand{\\bb}[1]{\\boldsymbol{#1}}\n",
    "$$\n",
    "# Data creation\n",
    "<a id=part1></a>"
   ]
  },
  {
   "cell_type": "markdown",
   "metadata": {},
   "source": [
    "we will start by setting up our datasets and dataloaders, then splitting data into train/validation/test sets"
   ]
  },
  {
   "cell_type": "code",
   "execution_count": 1,
   "metadata": {},
   "outputs": [],
   "source": [
    "import unittest\n",
    "import os\n",
    "import sys\n",
    "import pathlib\n",
    "import urllib\n",
    "import shutil\n",
    "import re\n",
    "\n",
    "import numpy as np\n",
    "import torch\n",
    "import matplotlib.pyplot as plt\n",
    "\n",
    "%load_ext autoreload\n",
    "%autoreload 2"
   ]
  },
  {
   "cell_type": "code",
   "execution_count": 2,
   "metadata": {},
   "outputs": [
    {
     "name": "stdout",
     "output_type": "stream",
     "text": [
      "Using device: cpu\n"
     ]
    }
   ],
   "source": [
    "test = unittest.TestCase()\n",
    "plt.rcParams.update({'font.size': 12})\n",
    "device = torch.device('cuda' if torch.cuda.is_available() else 'cpu')\n",
    "print('Using device:', device)"
   ]
  },
  {
   "cell_type": "code",
   "execution_count": 3,
   "metadata": {},
   "outputs": [
    {
     "name": "stdout",
     "output_type": "stream",
     "text": [
      "{'ID': '102', 'TARGET': 'atheism', 'TWEET': ['blessed', 'are', 'the', 'peacemakers,', 'for', 'they', 'shall', 'be', 'called', 'children', 'of', 'god.', 'matthew', '5:9', '#scripture', '#peace', '#semst'], 'STANCE': 'AGAINST', 'SENTIMENT': 'POSITIVE'}\n",
      "{'ID': '2413', 'TARGET': 'legalization of abortion', 'TWEET': ['@showtruth', 'no,', 'i', \"can't\", 'explain', 'why', 'you', 'would', 'consider', 'a', 'medical', 'procedure', 'that', 'leaves', 'the', 'patient', 'healthy', '&', 'happy', 'as', 'killing.', '#semst'], 'STANCE': 'FAVOR', 'SENTIMENT': 'NEGATIVE'}\n",
      "2814\n"
     ]
    },
    {
     "name": "stderr",
     "output_type": "stream",
     "text": [
      "C:\\Users\\User\\anaconda3\\envs\\AI-project\\lib\\site-packages\\torchtext\\data\\field.py:150: UserWarning: Field class will be retired in the 0.8.0 release and moved to torchtext.legacy. Please see 0.7.0 release notes for further information.\n",
      "  warnings.warn('{} class will be retired in the 0.8.0 release and moved to torchtext.legacy. Please see 0.7.0 release notes for further information.'.format(self.__class__.__name__), UserWarning)\n",
      "C:\\Users\\User\\anaconda3\\envs\\AI-project\\lib\\site-packages\\torchtext\\data\\example.py:68: UserWarning: Example class will be retired in the 0.8.0 release and moved to torchtext.legacy. Please see 0.7.0 release notes for further information.\n",
      "  warnings.warn('Example class will be retired in the 0.8.0 release and moved to torchtext.legacy. Please see 0.7.0 release notes for further information.', UserWarning)\n",
      "C:\\Users\\User\\anaconda3\\envs\\AI-project\\lib\\site-packages\\torchtext\\data\\example.py:78: UserWarning: Example class will be retired in the 0.8.0 release and moved to torchtext.legacy. Please see 0.7.0 release notes for further information.\n",
      "  warnings.warn('Example class will be retired in the 0.8.0 release and moved to torchtext.legacy. Please see 0.7.0 release notes for further information.', UserWarning)\n"
     ]
    }
   ],
   "source": [
    "import torchtext\n",
    "from torchtext import data\n",
    "from torchtext import datasets\n",
    "\n",
    "# create Field objects\n",
    "ID = data.Field(sequential=False, dtype=torch.int8,use_vocab=True)\n",
    "TARGET = data.Field(sequential=False, lower=True, dtype=torch.long, use_vocab=True)\n",
    "TWEET = data.Field(sequential=True, use_vocab=True, lower=True,\n",
    "    init_token='<sos>', eos_token='<eos>', dtype=torch.long)\n",
    "STANCE = data.Field( is_target=True, sequential=False, unk_token=None, use_vocab=True)\n",
    "SENTIMENT = data.Field( is_target=True, sequential=False, unk_token=None, use_vocab=True)\n",
    "\n",
    "# create tuples representing the columns\n",
    "fields = [\n",
    "   ('ID', ID),\n",
    "  ('TARGET', TARGET),\n",
    "  ('TWEET', TWEET),\n",
    "  ('STANCE', STANCE),\n",
    "  (None, None), # ignore age column\n",
    "  ('SENTIMENT', SENTIMENT)\n",
    "]\n",
    "\n",
    "\n",
    "# load the dataset in json format\n",
    "train_ds, valid_ds, test_ds = data.TabularDataset.splits(\n",
    "   path = 'data-all-annotations',\n",
    "   train = 'trainingdata-all-annotations.txt',\n",
    "   validation = 'legalization_of_abortion_valid_set.txt',\n",
    "   test = 'legalization_of_abortion_test_set.txt',\n",
    "   format = 'tsv',\n",
    "   fields = fields,\n",
    "skip_header = True\n",
    ")\n",
    "\n",
    "# check an example\n",
    "print(vars(train_ds[1]))\n",
    "print(vars(valid_ds[100]))\n",
    "print(len(train_ds))"
   ]
  },
  {
   "cell_type": "markdown",
   "metadata": {},
   "source": [
    "### Data Pre-processing\n",
    "<a id=part1_3></a>"
   ]
  },
  {
   "cell_type": "markdown",
   "metadata": {},
   "source": [
    "The first thing we'll need to build a vocabulary for our fields "
   ]
  },
  {
   "cell_type": "code",
   "execution_count": 4,
   "metadata": {},
   "outputs": [
    {
     "name": "stdout",
     "output_type": "stream",
     "text": [
      "Number of tokens in training samples: 12528\n",
      "Number of tokens in training stance labels: 3\n",
      "Number of tokens in training sentiment labels: 3\n"
     ]
    }
   ],
   "source": [
    "ID.build_vocab(train_ds)\n",
    "TARGET.build_vocab(train_ds)\n",
    "TWEET.build_vocab(train_ds)\n",
    "STANCE.build_vocab(train_ds)\n",
    "SENTIMENT.build_vocab(train_ds)\n",
    "\n",
    "print(f\"Number of tokens in training samples: {len(TWEET.vocab)}\")\n",
    "print(f\"Number of tokens in training stance labels: {len(STANCE.vocab)}\")\n",
    "print(f\"Number of tokens in training sentiment labels: {len(SENTIMENT.vocab)}\")"
   ]
  },
  {
   "cell_type": "code",
   "execution_count": 5,
   "metadata": {},
   "outputs": [
    {
     "name": "stdout",
     "output_type": "stream",
     "text": [
      "first 20 tokens:\n",
      " ['<unk>', '<pad>', '<sos>', '<eos>', '#semst', 'the', 'to', 'a', 'of', 'is', 'and', 'you', 'i', 'in', 'for', 'be', 'that', 'are', 'on', 'not']\n",
      "\n"
     ]
    }
   ],
   "source": [
    "print(f'first 20 tokens:\\n', TWEET.vocab.itos[:20], end='\\n\\n')"
   ]
  },
  {
   "cell_type": "code",
   "execution_count": 6,
   "metadata": {},
   "outputs": [
    {
     "name": "stdout",
     "output_type": "stream",
     "text": [
      "stance labels vocab:\n",
      " {'AGAINST': 0, 'NONE': 1, 'FAVOR': 2}\n",
      "sentiment labels vocab:\n",
      " {'NEGATIVE': 0, 'POSITIVE': 1, 'NEITHER': 2}\n"
     ]
    }
   ],
   "source": [
    "print(f'stance labels vocab:\\n', dict(STANCE.vocab.stoi))\n",
    "print(f'sentiment labels vocab:\\n', dict(SENTIMENT.vocab.stoi))"
   ]
  },
  {
   "cell_type": "markdown",
   "metadata": {},
   "source": [
    "# Data Loaders"
   ]
  },
  {
   "cell_type": "markdown",
   "metadata": {},
   "source": [
    "we want to be able to create batches and to iterate through the datasets for that we need to define data loaders \n"
   ]
  },
  {
   "cell_type": "code",
   "execution_count": 7,
   "metadata": {},
   "outputs": [
    {
     "name": "stderr",
     "output_type": "stream",
     "text": [
      "C:\\Users\\User\\anaconda3\\envs\\AI-project\\lib\\site-packages\\torchtext\\data\\iterator.py:48: UserWarning: BucketIterator class will be retired in the 0.8.0 release and moved to torchtext.legacy. Please see 0.7.0 release notes for further information.\n",
      "  warnings.warn('{} class will be retired in the 0.8.0 release and moved to torchtext.legacy. Please see 0.7.0 release notes for further information.'.format(self.__class__.__name__), UserWarning)\n"
     ]
    }
   ],
   "source": [
    "BATCH_SIZE = 10\n",
    "\n",
    "dl_train, dl_valid, dl_test = torchtext.data.BucketIterator.splits(\n",
    "    (train_ds, valid_ds, test_ds), batch_size=BATCH_SIZE,\n",
    "    shuffle=True, sort=False)"
   ]
  },
  {
   "cell_type": "markdown",
   "metadata": {},
   "source": [
    "this is what a single batch looks like"
   ]
  },
  {
   "cell_type": "code",
   "execution_count": 8,
   "metadata": {},
   "outputs": [
    {
     "name": "stdout",
     "output_type": "stream",
     "text": [
      "X = \n",
      " tensor([[    2,     2,     2,     2,     2,     2,     2,     2,     2,     2],\n",
      "        [   42,  6136,  6651,  6586,  1025,     5,    46,   474,  1477,  9607],\n",
      "        [   19,    44,  6490,    38,   211,   110,    11,   201,    73, 11624],\n",
      "        [   38,    69,  2487,     7,    56, 11022,  2736,   471,   394,  5284],\n",
      "        [ 4528,   171,   216,  1877,   644,   314,   747,    35,    59,     9],\n",
      "        [   16,     6,    36,    16,     6,    34,     5, 10418,   117,  8203],\n",
      "        [   56,   112,    19,    11,  3254,   291,   282,    27,   179, 11311],\n",
      "        [  424,   481,    13,    17,    16,  1326,   600, 11218,   147,  4426],\n",
      "        [  334, 10139,     7,  2438,  3660,   449,  5319,  5007,  1286,  3926],\n",
      "        [   87,    35, 11882,    13,  1707,     9,   762,  3776,  2816,  3971],\n",
      "        [   52,     5,  1080,   137,    18,    16,     4,  5042,  9817,   669],\n",
      "        [  274, 10533,   787,   119,     5,   207,     3,     4,   230,     4],\n",
      "        [ 7911, 12204,    92,    10,  1623,   316,     1,     3,   662,     3],\n",
      "        [   42,  7499,  2487,    40, 12206,   131,     1,     1,   191,     1],\n",
      "        [   30,    70,   216,    19,     5,    29,     1,     1,     4,     1],\n",
      "        [  190,     6,    39,  3238,  2703,  7393,     1,     1,     3,     1],\n",
      "        [11563,  2658,    15,   259,  7689,    29,     1,     1,     1,     1],\n",
      "        [   10,   201, 11998,  4771,   351,  3012,     1,     1,     1,     1],\n",
      "        [   13,   544,     4,  4758,     4,  4619,     1,     1,     1,     1],\n",
      "        [  413,   216,     3,  4766,     3,     4,     1,     1,     1,     1],\n",
      "        [   30,     6,     1,     4,     1,     3,     1,     1,     1,     1],\n",
      "        [   53,    52,     1,     3,     1,     1,     1,     1,     1,     1],\n",
      "        [    4,  9694,     1,     1,     1,     1,     1,     1,     1,     1],\n",
      "        [    3,     4,     1,     1,     1,     1,     1,     1,     1,     1],\n",
      "        [    1,     3,     1,     1,     1,     1,     1,     1,     1,     1]]) torch.Size([25, 10])\n",
      "\n",
      "y = \n",
      " tensor([2, 0, 0, 1, 2, 0, 1, 1, 0, 2]) torch.Size([10])\n"
     ]
    },
    {
     "name": "stderr",
     "output_type": "stream",
     "text": [
      "C:\\Users\\User\\anaconda3\\envs\\AI-project\\lib\\site-packages\\torchtext\\data\\batch.py:23: UserWarning: Batch class will be retired in the 0.8.0 release and moved to torchtext.legacy. Please see 0.7.0 release notes for further information.\n",
      "  warnings.warn('{} class will be retired in the 0.8.0 release and moved to torchtext.legacy. Please see 0.7.0 release notes for further information.'.format(self.__class__.__name__), UserWarning)\n"
     ]
    }
   ],
   "source": [
    "batch = next(iter(dl_train))\n",
    "\n",
    "X, y_stance, y_sentiment= batch.TWEET, batch.STANCE, batch.SENTIMENT\n",
    "print('X = \\n', X, X.shape, end='\\n\\n')\n",
    "print('y = \\n', y_stance, y_stance.shape)"
   ]
  },
  {
   "cell_type": "markdown",
   "metadata": {},
   "source": [
    "# Model Implementation"
   ]
  },
  {
   "cell_type": "markdown",
   "metadata": {},
   "source": [
    "In our problem stands the difficulties of stance detection, where the sentiment is not generic but with respect to a specific topic. \n",
    "as stated in our proposed solution we will build a RNN based deep neural network within a two-phase architecture,\n",
    "first we will experiment with a more sophisticated version of RNN which is the LSTM architecture. \n",
    "\n",
    "#### the two-phase architecture\n",
    "\n",
    "the first phase (Subjectivity classification):\n",
    "1. Layer of embedding\n",
    "2. Layer of LSTM \n",
    "3. Linear classification layer  classify (positive \\ negative \\ neutral)\n",
    "\n",
    "testing the model:"
   ]
  },
  {
   "cell_type": "code",
   "execution_count": 9,
   "metadata": {},
   "outputs": [
    {
     "name": "stdout",
     "output_type": "stream",
     "text": [
      "h (S, B, H): torch.Size([25, 10, 64])\n",
      "ht (L, B, H): torch.Size([2, 10, 64])\n",
      "out (S, B, H): torch.Size([25, 10, 3])\n"
     ]
    }
   ],
   "source": [
    "from implementations.models import SubjectivityLSTM\n",
    "\n",
    "EMB_DIM = 128\n",
    "HID_DIM = 64\n",
    "NUM_LAYERS = 2\n",
    "DROP_OUT = 0.1\n",
    "VOCAB_SIZE = len(TWEET.vocab)\n",
    "\n",
    "sub = SubjectivityLSTM(VOCAB_SIZE, EMB_DIM, HID_DIM,NUM_LAYERS,DROP_OUT)\n",
    "out, h, ht = sub(X)\n",
    "print(f'h (S, B, H): {h.shape}')\n",
    "print(f'ht (L, B, H): {ht[0].shape}')\n",
    "print(f'out (S, B, H): {out.shape}')"
   ]
  },
  {
   "cell_type": "markdown",
   "metadata": {},
   "source": [
    "\n",
    "the second phase (Stance detection):\n",
    "1. Layer of attention\n",
    "2. Layer of LSTM\n",
    "3. Linear classification layer classify (favor \\ against)."
   ]
  },
  {
   "cell_type": "code",
   "execution_count": 10,
   "metadata": {},
   "outputs": [
    {
     "name": "stdout",
     "output_type": "stream",
     "text": [
      "yhat (S, B, V_tgt): torch.Size([25, 10, 3])\n"
     ]
    }
   ],
   "source": [
    "from implementations.models import StanceLSTM\n",
    "\n",
    "stance = StanceLSTM(VOCAB_SIZE, EMB_DIM, HID_DIM,NUM_LAYERS,DROP_OUT)\n",
    "yhat, _ = stance(X, ht, h)\n",
    "print(f'yhat (S, B, V_tgt): {yhat.shape}')"
   ]
  },
  {
   "cell_type": "markdown",
   "metadata": {},
   "source": [
    "now for the model that includes both"
   ]
  },
  {
   "cell_type": "code",
   "execution_count": 11,
   "metadata": {},
   "outputs": [
    {
     "name": "stdout",
     "output_type": "stream",
     "text": [
      "y_stance: (S, B, V_tgt) = (25, 10, 3)\n",
      "y_sub: (S, B, V_tgt) = (25, 10, 3)\n"
     ]
    }
   ],
   "source": [
    "from implementations.models import TwoPhaseLSTM\n",
    "\n",
    "two_phase_model = TwoPhaseLSTM(sub, stance)\n",
    "y_stance, y_sub = two_phase_model(X)\n",
    "print('y_stance: (S, B, V_tgt) =', tuple(y_stance.shape))\n",
    "print('y_sub: (S, B, V_tgt) =', tuple(y_sub.shape))"
   ]
  },
  {
   "cell_type": "markdown",
   "metadata": {},
   "source": [
    "# training\n",
    "\n",
    "The trainnig approarch will be standard approach with CrossEntropy loss on the class scores and calculating number of correct answers for accuracy evaluation"
   ]
  },
  {
   "cell_type": "code",
   "execution_count": 13,
   "metadata": {},
   "outputs": [
    {
     "name": "stdout",
     "output_type": "stream",
     "text": [
      "=== EPOCH 1/100 ===\n",
      "train loss=0.8484514355659485,: 100%|██████████████████████████████████████████████████| 28/28 [00:02<00:00, 10.04it/s]\n",
      " sentiment accuracy=0.6000000238418579, stance accuracy=0.699999988079071 : 100%|██████| 30/30 [00:00<00:00, 40.48it/s]\n",
      "=== EPOCH 2/100 ===\n",
      "train loss=0.8861850500106812,: 100%|██████████████████████████████████████████████████| 28/28 [00:03<00:00,  9.11it/s]\n",
      " sentiment accuracy=0.4000000059604645, stance accuracy=0.5 : 100%|████████████████████| 30/30 [00:00<00:00, 42.97it/s]\n",
      "=== EPOCH 3/100 ===\n",
      "train loss=1.063779592514038,: 100%|███████████████████████████████████████████████████| 28/28 [00:03<00:00,  8.64it/s]\n",
      " sentiment accuracy=0.6000000238418579, stance accuracy=0.5 : 100%|████████████████████| 30/30 [00:00<00:00, 42.49it/s]\n",
      "=== EPOCH 4/100 ===\n",
      "train loss=0.9704071879386902,: 100%|██████████████████████████████████████████████████| 28/28 [00:03<00:00,  8.64it/s]\n",
      " sentiment accuracy=0.10000000149011612, stance accuracy=0.30000001192092896 : 100%|███| 30/30 [00:00<00:00, 40.16it/s]\n",
      "=== EPOCH 5/100 ===\n",
      "train loss=0.9637184143066406,: 100%|██████████████████████████████████████████████████| 28/28 [00:03<00:00,  8.75it/s]\n",
      " sentiment accuracy=0.6000000238418579, stance accuracy=0.699999988079071 : 100%|██████| 30/30 [00:00<00:00, 41.55it/s]\n",
      "=== EPOCH 6/100 ===\n",
      "train loss=1.0362951755523682,: 100%|██████████████████████████████████████████████████| 28/28 [00:03<00:00,  9.13it/s]\n",
      " sentiment accuracy=0.699999988079071, stance accuracy=0.6000000238418579 : 100%|██████| 30/30 [00:00<00:00, 44.56it/s]\n",
      "=== EPOCH 7/100 ===\n",
      "train loss=1.0302881002426147,: 100%|██████████████████████████████████████████████████| 28/28 [00:02<00:00,  9.41it/s]\n",
      " sentiment accuracy=0.6000000238418579, stance accuracy=0.5 : 100%|████████████████████| 30/30 [00:00<00:00, 41.43it/s]\n",
      "=== EPOCH 8/100 ===\n",
      "train loss=0.7557774186134338,: 100%|██████████████████████████████████████████████████| 28/28 [00:03<00:00,  9.11it/s]\n",
      " sentiment accuracy=0.8999999761581421, stance accuracy=0.800000011920929 : 100%|██████| 30/30 [00:00<00:00, 40.98it/s]\n",
      "=== EPOCH 9/100 ===\n",
      "train loss=0.7835518717765808,: 100%|██████████████████████████████████████████████████| 28/28 [00:03<00:00,  8.56it/s]\n",
      " sentiment accuracy=0.8999999761581421, stance accuracy=0.6000000238418579 : 100%|█████| 30/30 [00:00<00:00, 42.91it/s]\n",
      "=== EPOCH 10/100 ===\n",
      "train loss=0.798724353313446,: 100%|███████████████████████████████████████████████████| 28/28 [00:03<00:00,  9.13it/s]\n",
      " sentiment accuracy=0.800000011920929, stance accuracy=0.699999988079071 : 100%|███████| 30/30 [00:00<00:00, 42.73it/s]\n",
      "=== EPOCH 11/100 ===\n",
      "train loss=0.6254150867462158,: 100%|██████████████████████████████████████████████████| 28/28 [00:03<00:00,  9.16it/s]\n",
      " sentiment accuracy=0.6000000238418579, stance accuracy=0.699999988079071 : 100%|██████| 30/30 [00:00<00:00, 43.22it/s]\n",
      "=== EPOCH 12/100 ===\n",
      "train loss=1.02253258228302,: 100%|████████████████████████████████████████████████████| 28/28 [00:02<00:00,  9.34it/s]\n",
      " sentiment accuracy=0.699999988079071, stance accuracy=0.800000011920929 : 100%|███████| 30/30 [00:00<00:00, 42.91it/s]\n",
      "=== EPOCH 13/100 ===\n",
      "train loss=0.8309723734855652,: 100%|██████████████████████████████████████████████████| 28/28 [00:03<00:00,  8.95it/s]\n",
      " sentiment accuracy=0.8999999761581421, stance accuracy=0.699999988079071 : 100%|██████| 30/30 [00:00<00:00, 43.34it/s]\n",
      "=== EPOCH 14/100 ===\n",
      "train loss=0.8577629327774048,: 100%|██████████████████████████████████████████████████| 28/28 [00:02<00:00,  9.36it/s]\n",
      " sentiment accuracy=0.800000011920929, stance accuracy=1.0 : 100%|█████████████████████| 30/30 [00:00<00:00, 42.55it/s]\n",
      "=== EPOCH 15/100 ===\n",
      "train loss=0.5309956073760986,: 100%|██████████████████████████████████████████████████| 28/28 [00:03<00:00,  9.32it/s]\n",
      " sentiment accuracy=0.800000011920929, stance accuracy=0.800000011920929 : 100%|███████| 30/30 [00:00<00:00, 42.01it/s]\n",
      "=== EPOCH 16/100 ===\n",
      "train loss=0.8325058817863464,: 100%|██████████████████████████████████████████████████| 28/28 [00:03<00:00,  9.21it/s]\n",
      " sentiment accuracy=0.800000011920929, stance accuracy=0.800000011920929 : 100%|███████| 30/30 [00:00<00:00, 42.55it/s]\n",
      "=== EPOCH 17/100 ===\n",
      "train loss=0.5770472288131714,: 100%|██████████████████████████████████████████████████| 28/28 [00:02<00:00,  9.51it/s]\n",
      " sentiment accuracy=0.8999999761581421, stance accuracy=0.699999988079071 : 100%|██████| 30/30 [00:00<00:00, 41.49it/s]\n",
      "=== EPOCH 18/100 ===\n",
      "train loss=0.7317854166030884,: 100%|██████████████████████████████████████████████████| 28/28 [00:03<00:00,  9.07it/s]\n",
      " sentiment accuracy=0.699999988079071, stance accuracy=0.8999999761581421 : 100%|██████| 30/30 [00:00<00:00, 40.87it/s]\n",
      "=== EPOCH 19/100 ===\n",
      "train loss=0.897506058216095,: 100%|███████████████████████████████████████████████████| 28/28 [00:03<00:00,  8.77it/s]\n",
      " sentiment accuracy=0.699999988079071, stance accuracy=0.8999999761581421 : 100%|██████| 30/30 [00:00<00:00, 41.66it/s]\n",
      "=== EPOCH 20/100 ===\n",
      "train loss=0.8635625839233398,: 100%|██████████████████████████████████████████████████| 28/28 [00:02<00:00,  9.45it/s]\n",
      " sentiment accuracy=0.699999988079071, stance accuracy=1.0 : 100%|█████████████████████| 30/30 [00:00<00:00, 42.19it/s]\n",
      "=== EPOCH 21/100 ===\n",
      "train loss=0.5357549786567688,: 100%|██████████████████████████████████████████████████| 28/28 [00:03<00:00,  9.26it/s]\n",
      " sentiment accuracy=0.8999999761581421, stance accuracy=0.699999988079071 : 100%|██████| 30/30 [00:00<00:00, 40.05it/s]\n",
      "=== EPOCH 22/100 ===\n",
      "train loss=0.6869136691093445,: 100%|██████████████████████████████████████████████████| 28/28 [00:03<00:00,  8.69it/s]\n",
      " sentiment accuracy=0.800000011920929, stance accuracy=0.800000011920929 : 100%|███████| 30/30 [00:00<00:00, 38.86it/s]\n",
      "=== EPOCH 23/100 ===\n",
      "train loss=0.623327374458313,: 100%|███████████████████████████████████████████████████| 28/28 [00:03<00:00,  9.27it/s]\n",
      " sentiment accuracy=0.8999999761581421, stance accuracy=0.699999988079071 : 100%|██████| 30/30 [00:00<00:00, 39.84it/s]\n",
      "=== EPOCH 24/100 ===\n",
      "train loss=0.49321499466896057,: 100%|█████████████████████████████████████████████████| 28/28 [00:03<00:00,  9.05it/s]\n",
      " sentiment accuracy=0.8999999761581421, stance accuracy=0.800000011920929 : 100%|██████| 30/30 [00:00<00:00, 42.55it/s]\n",
      "=== EPOCH 25/100 ===\n",
      "train loss=0.3081614673137665,: 100%|██████████████████████████████████████████████████| 28/28 [00:03<00:00,  9.22it/s]\n",
      " sentiment accuracy=0.6000000238418579, stance accuracy=0.699999988079071 : 100%|██████| 30/30 [00:00<00:00, 41.78it/s]\n",
      "=== EPOCH 26/100 ===\n",
      "train loss=0.3689723610877991,: 100%|██████████████████████████████████████████████████| 28/28 [00:03<00:00,  9.12it/s]\n",
      " sentiment accuracy=1.0, stance accuracy=1.0 : 100%|███████████████████████████████████| 30/30 [00:00<00:00, 41.04it/s]\n",
      "=== EPOCH 27/100 ===\n",
      "train loss=0.3558890223503113,: 100%|██████████████████████████████████████████████████| 28/28 [00:03<00:00,  9.09it/s]\n",
      " sentiment accuracy=0.8999999761581421, stance accuracy=1.0 : 100%|████████████████████| 30/30 [00:00<00:00, 40.32it/s]\n",
      "=== EPOCH 28/100 ===\n",
      "train loss=0.327052503824234,: 100%|███████████████████████████████████████████████████| 28/28 [00:03<00:00,  9.00it/s]\n",
      " sentiment accuracy=1.0, stance accuracy=0.8999999761581421 : 100%|████████████████████| 30/30 [00:00<00:00, 40.87it/s]\n",
      "=== EPOCH 29/100 ===\n",
      "train loss=0.3022749125957489,: 100%|██████████████████████████████████████████████████| 28/28 [00:03<00:00,  8.96it/s]\n",
      " sentiment accuracy=0.800000011920929, stance accuracy=0.800000011920929 : 100%|███████| 30/30 [00:00<00:00, 40.76it/s]\n",
      "=== EPOCH 30/100 ===\n",
      "train loss=0.3391183614730835,: 100%|██████████████████████████████████████████████████| 28/28 [00:03<00:00,  8.83it/s]\n",
      " sentiment accuracy=1.0, stance accuracy=0.8999999761581421 : 100%|████████████████████| 30/30 [00:00<00:00, 40.32it/s]\n",
      "=== EPOCH 31/100 ===\n",
      "train loss=0.369491845369339,: 100%|███████████████████████████████████████████████████| 28/28 [00:03<00:00,  8.77it/s]\n",
      " sentiment accuracy=0.8999999761581421, stance accuracy=0.8999999761581421 : 100%|█████| 30/30 [00:00<00:00, 41.32it/s]\n",
      "=== EPOCH 32/100 ===\n",
      "train loss=0.20711036026477814,: 100%|█████████████████████████████████████████████████| 28/28 [00:03<00:00,  8.82it/s]\n",
      " sentiment accuracy=0.8999999761581421, stance accuracy=1.0 : 100%|████████████████████| 30/30 [00:00<00:00, 43.98it/s]\n",
      "=== EPOCH 33/100 ===\n",
      "train loss=0.47997134923934937,: 100%|█████████████████████████████████████████████████| 28/28 [00:03<00:00,  8.77it/s]\n",
      " sentiment accuracy=0.8999999761581421, stance accuracy=1.0 : 100%|████████████████████| 30/30 [00:00<00:00, 41.21it/s]\n",
      "=== EPOCH 34/100 ===\n",
      "train loss=0.5617616176605225,: 100%|██████████████████████████████████████████████████| 28/28 [00:03<00:00,  8.54it/s]\n",
      " sentiment accuracy=0.8999999761581421, stance accuracy=0.8999999761581421 : 100%|█████| 30/30 [00:00<00:00, 41.21it/s]\n",
      "=== EPOCH 35/100 ===\n",
      "train loss=0.22333768010139465,: 100%|█████████████████████████████████████████████████| 28/28 [00:03<00:00,  8.09it/s]\n",
      " sentiment accuracy=0.8999999761581421, stance accuracy=0.8999999761581421 : 100%|█████| 30/30 [00:00<00:00, 42.13it/s]\n",
      "=== EPOCH 36/100 ===\n",
      "train loss=0.45507949590682983,: 100%|█████████████████████████████████████████████████| 28/28 [00:03<00:00,  8.72it/s]\n",
      " sentiment accuracy=0.8999999761581421, stance accuracy=0.699999988079071 : 100%|██████| 30/30 [00:00<00:00, 40.98it/s]\n",
      "=== EPOCH 37/100 ===\n",
      "train loss=0.6855189800262451,: 100%|██████████████████████████████████████████████████| 28/28 [00:03<00:00,  8.67it/s]\n",
      " sentiment accuracy=0.8999999761581421, stance accuracy=0.8999999761581421 : 100%|█████| 30/30 [00:00<00:00, 41.09it/s]\n",
      "=== EPOCH 38/100 ===\n",
      "train loss=0.1101524829864502,: 100%|██████████████████████████████████████████████████| 28/28 [00:03<00:00,  8.71it/s]\n",
      " sentiment accuracy=0.8999999761581421, stance accuracy=0.8999999761581421 : 100%|█████| 30/30 [00:00<00:00, 38.86it/s]\n",
      "=== EPOCH 39/100 ===\n",
      "train loss=0.16146117448806763,: 100%|█████████████████████████████████████████████████| 28/28 [00:03<00:00,  8.41it/s]\n",
      " sentiment accuracy=0.800000011920929, stance accuracy=1.0 : 100%|█████████████████████| 30/30 [00:00<00:00, 40.98it/s]\n",
      "=== EPOCH 40/100 ===\n",
      "train loss=0.7329245805740356,: 100%|██████████████████████████████████████████████████| 28/28 [00:03<00:00,  8.46it/s]\n",
      " sentiment accuracy=0.8999999761581421, stance accuracy=1.0 : 100%|████████████████████| 30/30 [00:00<00:00, 41.55it/s]\n",
      "=== EPOCH 41/100 ===\n",
      "train loss=0.08994933217763901,: 100%|█████████████████████████████████████████████████| 28/28 [00:03<00:00,  8.51it/s]\n",
      " sentiment accuracy=1.0, stance accuracy=0.8999999761581421 : 100%|████████████████████| 30/30 [00:00<00:00, 42.73it/s]\n",
      "=== EPOCH 42/100 ===\n",
      "train loss=0.6789284944534302,: 100%|██████████████████████████████████████████████████| 28/28 [00:03<00:00,  8.40it/s]\n",
      " sentiment accuracy=1.0, stance accuracy=1.0 : 100%|███████████████████████████████████| 30/30 [00:00<00:00, 42.49it/s]\n",
      "=== EPOCH 43/100 ===\n",
      "train loss=0.08487551659345627,: 100%|█████████████████████████████████████████████████| 28/28 [00:03<00:00,  8.40it/s]\n",
      " sentiment accuracy=0.8999999761581421, stance accuracy=0.8999999761581421 : 100%|█████| 30/30 [00:00<00:00, 42.61it/s]\n",
      "=== EPOCH 44/100 ===\n",
      "train loss=0.2742999792098999,: 100%|██████████████████████████████████████████████████| 28/28 [00:03<00:00,  8.31it/s]\n",
      " sentiment accuracy=1.0, stance accuracy=0.8999999761581421 : 100%|████████████████████| 30/30 [00:00<00:00, 34.30it/s]\n",
      "=== EPOCH 45/100 ===\n",
      "train loss=0.037692759186029434,: 100%|████████████████████████████████████████████████| 28/28 [00:03<00:00,  8.40it/s]\n",
      " sentiment accuracy=0.8999999761581421, stance accuracy=1.0 : 100%|████████████████████| 30/30 [00:00<00:00, 39.79it/s]\n",
      "=== EPOCH 46/100 ===\n",
      "train loss=0.239096999168396,: 100%|███████████████████████████████████████████████████| 28/28 [00:03<00:00,  8.69it/s]\n",
      " sentiment accuracy=0.699999988079071, stance accuracy=0.8999999761581421 : 100%|██████| 30/30 [00:00<00:00, 41.60it/s]\n",
      "=== EPOCH 47/100 ===\n",
      "train loss=0.0765237957239151,: 100%|██████████████████████████████████████████████████| 28/28 [00:03<00:00,  8.52it/s]\n",
      " sentiment accuracy=1.0, stance accuracy=1.0 : 100%|███████████████████████████████████| 30/30 [00:00<00:00, 36.68it/s]\n",
      "=== EPOCH 48/100 ===\n",
      "train loss=0.3545379638671875,: 100%|██████████████████████████████████████████████████| 28/28 [00:03<00:00,  8.49it/s]\n",
      " sentiment accuracy=1.0, stance accuracy=0.699999988079071 : 100%|█████████████████████| 30/30 [00:00<00:00, 42.55it/s]\n",
      "=== EPOCH 49/100 ===\n",
      "train loss=0.03222651034593582,: 100%|█████████████████████████████████████████████████| 28/28 [00:03<00:00,  8.47it/s]\n",
      " sentiment accuracy=0.8999999761581421, stance accuracy=1.0 : 100%|████████████████████| 30/30 [00:00<00:00, 42.61it/s]\n",
      "=== EPOCH 50/100 ===\n",
      "train loss=0.27459651231765747,: 100%|█████████████████████████████████████████████████| 28/28 [00:03<00:00,  8.54it/s]\n",
      " sentiment accuracy=0.800000011920929, stance accuracy=1.0 : 100%|█████████████████████| 30/30 [00:00<00:00, 43.53it/s]\n",
      "=== EPOCH 51/100 ===\n",
      "train loss=0.07659631222486496,: 100%|█████████████████████████████████████████████████| 28/28 [00:03<00:00,  8.52it/s]\n",
      " sentiment accuracy=0.699999988079071, stance accuracy=1.0 : 100%|█████████████████████| 30/30 [00:00<00:00, 42.07it/s]\n",
      "=== EPOCH 52/100 ===\n",
      "train loss=0.13618041574954987,: 100%|█████████████████████████████████████████████████| 28/28 [00:03<00:00,  8.18it/s]\n",
      " sentiment accuracy=1.0, stance accuracy=1.0 : 100%|███████████████████████████████████| 30/30 [00:00<00:00, 42.49it/s]\n",
      "=== EPOCH 53/100 ===\n",
      "train loss=0.0838211327791214,: 100%|██████████████████████████████████████████████████| 28/28 [00:03<00:00,  8.33it/s]\n",
      " sentiment accuracy=1.0, stance accuracy=1.0 : 100%|███████████████████████████████████| 30/30 [00:00<00:00, 38.81it/s]\n",
      "=== EPOCH 54/100 ===\n",
      "train loss=0.5345710515975952,: 100%|██████████████████████████████████████████████████| 28/28 [00:03<00:00,  7.79it/s]\n",
      " sentiment accuracy=0.8999999761581421, stance accuracy=1.0 : 100%|████████████████████| 30/30 [00:00<00:00, 41.66it/s]\n",
      "=== EPOCH 55/100 ===\n",
      "train loss=0.2993628978729248,: 100%|██████████████████████████████████████████████████| 28/28 [00:03<00:00,  8.47it/s]\n",
      " sentiment accuracy=0.8999999761581421, stance accuracy=1.0 : 100%|████████████████████| 30/30 [00:00<00:00, 43.34it/s]\n",
      "=== EPOCH 56/100 ===\n",
      "train loss=0.31360000371932983,: 100%|█████████████████████████████████████████████████| 28/28 [00:03<00:00,  8.32it/s]\n",
      " sentiment accuracy=1.0, stance accuracy=1.0 : 100%|███████████████████████████████████| 30/30 [00:00<00:00, 40.65it/s]\n",
      "=== EPOCH 57/100 ===\n",
      "train loss=0.036617398262023926,: 100%|████████████████████████████████████████████████| 28/28 [00:03<00:00,  8.32it/s]\n",
      " sentiment accuracy=0.8999999761581421, stance accuracy=1.0 : 100%|████████████████████| 30/30 [00:00<00:00, 42.37it/s]\n",
      "=== EPOCH 58/100 ===\n",
      "train loss=0.05329039692878723,: 100%|█████████████████████████████████████████████████| 28/28 [00:03<00:00,  8.41it/s]\n",
      " sentiment accuracy=1.0, stance accuracy=1.0 : 100%|███████████████████████████████████| 30/30 [00:00<00:00, 42.85it/s]\n",
      "=== EPOCH 59/100 ===\n",
      "train loss=0.03097468614578247,: 100%|█████████████████████████████████████████████████| 28/28 [00:03<00:00,  8.41it/s]\n",
      " sentiment accuracy=1.0, stance accuracy=1.0 : 100%|███████████████████████████████████| 30/30 [00:00<00:00, 40.43it/s]\n",
      "=== EPOCH 60/100 ===\n",
      "train loss=0.029933994635939598,: 100%|████████████████████████████████████████████████| 28/28 [00:03<00:00,  8.26it/s]\n",
      " sentiment accuracy=0.800000011920929, stance accuracy=0.8999999761581421 : 100%|██████| 30/30 [00:00<00:00, 42.97it/s]\n",
      "=== EPOCH 61/100 ===\n",
      "train loss=0.6720078587532043,: 100%|██████████████████████████████████████████████████| 28/28 [00:03<00:00,  8.37it/s]\n",
      " sentiment accuracy=0.8999999761581421, stance accuracy=1.0 : 100%|████████████████████| 30/30 [00:00<00:00, 39.84it/s]\n",
      "=== EPOCH 62/100 ===\n",
      "train loss=0.0171161200851202,: 100%|██████████████████████████████████████████████████| 28/28 [00:03<00:00,  8.31it/s]\n",
      " sentiment accuracy=1.0, stance accuracy=1.0 : 100%|███████████████████████████████████| 30/30 [00:00<00:00, 43.28it/s]\n",
      "=== EPOCH 63/100 ===\n",
      "train loss=0.11473004519939423,: 100%|█████████████████████████████████████████████████| 28/28 [00:03<00:00,  8.33it/s]\n",
      " sentiment accuracy=1.0, stance accuracy=1.0 : 100%|███████████████████████████████████| 30/30 [00:00<00:00, 44.56it/s]\n",
      "=== EPOCH 64/100 ===\n",
      "train loss=0.07556160539388657,: 100%|█████████████████████████████████████████████████| 28/28 [00:03<00:00,  8.33it/s]\n",
      " sentiment accuracy=1.0, stance accuracy=1.0 : 100%|███████████████████████████████████| 30/30 [00:00<00:00, 44.17it/s]\n",
      "=== EPOCH 65/100 ===\n",
      "train loss=0.018519245088100433,: 100%|████████████████████████████████████████████████| 28/28 [00:03<00:00,  8.33it/s]\n",
      " sentiment accuracy=0.8999999761581421, stance accuracy=1.0 : 100%|████████████████████| 30/30 [00:00<00:00, 43.98it/s]\n",
      "=== EPOCH 66/100 ===\n",
      "train loss=0.016069753095507622,: 100%|████████████████████████████████████████████████| 28/28 [00:03<00:00,  8.20it/s]\n",
      " sentiment accuracy=0.8999999761581421, stance accuracy=1.0 : 100%|████████████████████| 30/30 [00:00<00:00, 43.09it/s]\n",
      "=== EPOCH 67/100 ===\n",
      "train loss=0.06767108291387558,: 100%|█████████████████████████████████████████████████| 28/28 [00:03<00:00,  8.44it/s]\n",
      " sentiment accuracy=1.0, stance accuracy=1.0 : 100%|███████████████████████████████████| 30/30 [00:00<00:00, 44.96it/s]\n",
      "=== EPOCH 68/100 ===\n",
      "train loss=0.018391894176602364,: 100%|████████████████████████████████████████████████| 28/28 [00:03<00:00,  8.32it/s]\n",
      " sentiment accuracy=1.0, stance accuracy=1.0 : 100%|███████████████████████████████████| 30/30 [00:00<00:00, 44.56it/s]\n",
      "=== EPOCH 69/100 ===\n",
      "train loss=0.4123571515083313,: 100%|██████████████████████████████████████████████████| 28/28 [00:03<00:00,  8.32it/s]\n",
      " sentiment accuracy=1.0, stance accuracy=1.0 : 100%|███████████████████████████████████| 30/30 [00:00<00:00, 43.85it/s]\n",
      "=== EPOCH 70/100 ===\n",
      "train loss=0.021022284403443336,: 100%|████████████████████████████████████████████████| 28/28 [00:03<00:00,  8.29it/s]\n",
      " sentiment accuracy=1.0, stance accuracy=0.8999999761581421 : 100%|████████████████████| 30/30 [00:00<00:00, 43.85it/s]\n",
      "=== EPOCH 71/100 ===\n",
      "train loss=0.005495445337146521,: 100%|████████████████████████████████████████████████| 28/28 [00:03<00:00,  8.32it/s]\n",
      " sentiment accuracy=1.0, stance accuracy=1.0 : 100%|███████████████████████████████████| 30/30 [00:00<00:00, 43.53it/s]\n",
      "=== EPOCH 72/100 ===\n",
      "train loss=0.10468900203704834,: 100%|█████████████████████████████████████████████████| 28/28 [00:03<00:00,  8.22it/s]\n",
      " sentiment accuracy=1.0, stance accuracy=1.0 : 100%|███████████████████████████████████| 30/30 [00:00<00:00, 43.91it/s]\n",
      "=== EPOCH 73/100 ===\n",
      "train loss=0.10578963905572891,: 100%|█████████████████████████████████████████████████| 28/28 [00:03<00:00,  8.17it/s]\n",
      " sentiment accuracy=1.0, stance accuracy=1.0 : 100%|███████████████████████████████████| 30/30 [00:00<00:00, 44.63it/s]\n",
      "=== EPOCH 74/100 ===\n",
      "train loss=0.5641337037086487,: 100%|██████████████████████████████████████████████████| 28/28 [00:03<00:00,  7.87it/s]\n",
      " sentiment accuracy=0.8999999761581421, stance accuracy=1.0 : 100%|████████████████████| 30/30 [00:00<00:00, 43.28it/s]\n",
      "=== EPOCH 75/100 ===\n",
      "train loss=0.011218497529625893,: 100%|████████████████████████████████████████████████| 28/28 [00:03<00:00,  8.23it/s]\n",
      " sentiment accuracy=0.8999999761581421, stance accuracy=0.8999999761581421 : 100%|█████| 30/30 [00:00<00:00, 44.70it/s]\n",
      "=== EPOCH 76/100 ===\n",
      "train loss=0.04598427936434746,: 100%|█████████████████████████████████████████████████| 28/28 [00:03<00:00,  7.95it/s]\n",
      " sentiment accuracy=0.800000011920929, stance accuracy=1.0 : 100%|█████████████████████| 30/30 [00:00<00:00, 45.65it/s]\n",
      "=== EPOCH 77/100 ===\n",
      "train loss=0.020092066377401352,: 100%|████████████████████████████████████████████████| 28/28 [00:03<00:00,  8.11it/s]\n",
      " sentiment accuracy=0.8999999761581421, stance accuracy=1.0 : 100%|████████████████████| 30/30 [00:00<00:00, 44.43it/s]\n",
      "=== EPOCH 78/100 ===\n",
      "train loss=0.011662404052913189,: 100%|████████████████████████████████████████████████| 28/28 [00:03<00:00,  8.20it/s]\n",
      " sentiment accuracy=1.0, stance accuracy=0.8999999761581421 : 100%|████████████████████| 30/30 [00:00<00:00, 44.83it/s]\n",
      "=== EPOCH 79/100 ===\n",
      "train loss=0.23571884632110596,: 100%|█████████████████████████████████████████████████| 28/28 [00:03<00:00,  7.88it/s]\n",
      " sentiment accuracy=0.8999999761581421, stance accuracy=0.8999999761581421 : 100%|█████| 30/30 [00:00<00:00, 44.76it/s]\n",
      "=== EPOCH 80/100 ===\n",
      "train loss=0.009382148273289204,: 100%|████████████████████████████████████████████████| 28/28 [00:03<00:00,  8.10it/s]\n",
      " sentiment accuracy=1.0, stance accuracy=1.0 : 100%|███████████████████████████████████| 30/30 [00:00<00:00, 45.17it/s]\n",
      "=== EPOCH 81/100 ===\n",
      "train loss=0.005959235597401857,: 100%|████████████████████████████████████████████████| 28/28 [00:03<00:00,  7.85it/s]\n",
      " sentiment accuracy=0.8999999761581421, stance accuracy=1.0 : 100%|████████████████████| 30/30 [00:00<00:00, 44.96it/s]\n",
      "=== EPOCH 82/100 ===\n",
      "train loss=0.01584186777472496,: 100%|█████████████████████████████████████████████████| 28/28 [00:03<00:00,  8.02it/s]\n",
      " sentiment accuracy=0.800000011920929, stance accuracy=1.0 : 100%|█████████████████████| 30/30 [00:00<00:00, 43.78it/s]\n",
      "=== EPOCH 83/100 ===\n",
      "train loss=0.003510007169097662,: 100%|████████████████████████████████████████████████| 28/28 [00:03<00:00,  8.00it/s]\n",
      " sentiment accuracy=1.0, stance accuracy=1.0 : 100%|███████████████████████████████████| 30/30 [00:00<00:00, 42.61it/s]\n",
      "=== EPOCH 84/100 ===\n",
      "train loss=0.03205271437764168,: 100%|█████████████████████████████████████████████████| 28/28 [00:03<00:00,  8.05it/s]\n",
      " sentiment accuracy=1.0, stance accuracy=1.0 : 100%|███████████████████████████████████| 30/30 [00:00<00:00, 44.50it/s]\n",
      "=== EPOCH 85/100 ===\n",
      "train loss=0.03305729478597641,: 100%|█████████████████████████████████████████████████| 28/28 [00:03<00:00,  8.12it/s]\n",
      " sentiment accuracy=0.800000011920929, stance accuracy=0.8999999761581421 : 100%|██████| 30/30 [00:00<00:00, 44.83it/s]\n",
      "=== EPOCH 86/100 ===\n",
      "train loss=0.0038835187442600727,: 100%|███████████████████████████████████████████████| 28/28 [00:03<00:00,  7.87it/s]\n",
      " sentiment accuracy=1.0, stance accuracy=1.0 : 100%|███████████████████████████████████| 30/30 [00:00<00:00, 44.37it/s]\n",
      "=== EPOCH 87/100 ===\n",
      "train loss=0.06877600401639938,: 100%|█████████████████████████████████████████████████| 28/28 [00:03<00:00,  8.00it/s]\n",
      " sentiment accuracy=1.0, stance accuracy=1.0 : 100%|███████████████████████████████████| 30/30 [00:00<00:00, 44.70it/s]\n",
      "=== EPOCH 88/100 ===\n",
      "train loss=0.007423078175634146,: 100%|████████████████████████████████████████████████| 28/28 [00:03<00:00,  7.94it/s]\n",
      " sentiment accuracy=1.0, stance accuracy=1.0 : 100%|███████████████████████████████████| 30/30 [00:00<00:00, 44.63it/s]\n",
      "=== EPOCH 89/100 ===\n",
      "train loss=0.002580529311671853,: 100%|████████████████████████████████████████████████| 28/28 [00:03<00:00,  8.05it/s]\n",
      " sentiment accuracy=1.0, stance accuracy=1.0 : 100%|███████████████████████████████████| 30/30 [00:00<00:00, 43.59it/s]\n",
      "=== EPOCH 90/100 ===\n",
      "train loss=0.02132933959364891,: 100%|█████████████████████████████████████████████████| 28/28 [00:03<00:00,  7.74it/s]\n",
      " sentiment accuracy=1.0, stance accuracy=1.0 : 100%|███████████████████████████████████| 30/30 [00:00<00:00, 43.34it/s]\n",
      "=== EPOCH 91/100 ===\n",
      "train loss=0.004601499531418085,: 100%|████████████████████████████████████████████████| 28/28 [00:03<00:00,  7.96it/s]\n",
      " sentiment accuracy=0.8999999761581421, stance accuracy=1.0 : 100%|████████████████████| 30/30 [00:00<00:00, 42.25it/s]\n",
      "=== EPOCH 92/100 ===\n",
      "train loss=0.0050069852732121944,: 100%|███████████████████████████████████████████████| 28/28 [00:03<00:00,  8.14it/s]\n",
      " sentiment accuracy=1.0, stance accuracy=1.0 : 100%|███████████████████████████████████| 30/30 [00:00<00:00, 44.56it/s]\n",
      "=== EPOCH 93/100 ===\n",
      "train loss=0.009131502360105515,: 100%|████████████████████████████████████████████████| 28/28 [00:04<00:00,  6.61it/s]\n",
      " sentiment accuracy=1.0, stance accuracy=0.8999999761581421 : 100%|████████████████████| 30/30 [00:00<00:00, 47.00it/s]\n",
      "=== EPOCH 94/100 ===\n",
      "train loss=0.020290395244956017,: 100%|████████████████████████████████████████████████| 28/28 [00:03<00:00,  7.90it/s]\n",
      " sentiment accuracy=1.0, stance accuracy=1.0 : 100%|███████████████████████████████████| 30/30 [00:00<00:00, 44.56it/s]\n",
      "=== EPOCH 95/100 ===\n",
      "train loss=0.00816391222178936,: 100%|█████████████████████████████████████████████████| 28/28 [00:03<00:00,  7.34it/s]\n",
      " sentiment accuracy=1.0, stance accuracy=1.0 : 100%|███████████████████████████████████| 30/30 [00:00<00:00, 43.78it/s]\n",
      "=== EPOCH 96/100 ===\n",
      "train loss=0.007259259931743145,: 100%|████████████████████████████████████████████████| 28/28 [00:03<00:00,  7.98it/s]\n",
      " sentiment accuracy=1.0, stance accuracy=1.0 : 100%|███████████████████████████████████| 30/30 [00:00<00:00, 44.50it/s]\n",
      "=== EPOCH 97/100 ===\n",
      "train loss=0.0063946968875825405,: 100%|███████████████████████████████████████████████| 28/28 [00:03<00:00,  8.01it/s]\n",
      " sentiment accuracy=0.8999999761581421, stance accuracy=1.0 : 100%|████████████████████| 30/30 [00:00<00:00, 45.30it/s]\n",
      "=== EPOCH 98/100 ===\n",
      "train loss=0.0058493176475167274,: 100%|███████████████████████████████████████████████| 28/28 [00:03<00:00,  8.02it/s]\n",
      " sentiment accuracy=1.0, stance accuracy=1.0 : 100%|███████████████████████████████████| 30/30 [00:00<00:00, 45.92it/s]\n",
      "=== EPOCH 99/100 ===\n",
      "train loss=0.009832045063376427,: 100%|████████████████████████████████████████████████| 28/28 [00:03<00:00,  8.02it/s]\n",
      " sentiment accuracy=1.0, stance accuracy=1.0 : 100%|███████████████████████████████████| 30/30 [00:00<00:00, 44.43it/s]\n",
      "=== EPOCH 100/100 ===\n",
      "train loss=0.0041628940962255,: 100%|██████████████████████████████████████████████████| 28/28 [00:03<00:00,  7.80it/s]\n",
      " sentiment accuracy=1.0, stance accuracy=1.0 : 100%|███████████████████████████████████| 30/30 [00:00<00:00, 46.78it/s]\n"
     ]
    }
   ],
   "source": [
    "from implementations.training import train_two_phase_rnn\n",
    "from implementations.training import eval_two_phase_rnn\n",
    "import torch.nn as nn\n",
    "\n",
    "EPOCHS = 100\n",
    "BATCHES_PER_EPOCH=28\n",
    "LR=1e-3\n",
    "\n",
    "optimizer = torch.optim.Adam(two_phase_model.parameters(), lr=LR)\n",
    "sub_loss_fn = nn.NLLLoss()\n",
    "stance_loss_fn = nn.NLLLoss()\n",
    "\n",
    "losses = []\n",
    "sub_accuracies = []\n",
    "stance_accuracies = []\n",
    "for epoch in range(EPOCHS):\n",
    "    \n",
    "    print(f'=== EPOCH {epoch+1}/{EPOCHS} ===')\n",
    "    losses += train_two_phase_rnn(two_phase_model, dl_train, optimizer, sub_loss_fn, stance_loss_fn, BATCHES_PER_EPOCH)\n",
    "    sub_acc, stance_acc = eval_two_phase_rnn(two_phase_model, dl_valid)\n",
    "    sub_accuracies += sub_acc\n",
    "    stance_accuracies += stance_acc\n"
   ]
  },
  {
   "cell_type": "code",
   "execution_count": null,
   "metadata": {},
   "outputs": [],
   "source": []
  }
 ],
 "metadata": {
  "kernelspec": {
   "display_name": "Python 3",
   "language": "python",
   "name": "python3"
  },
  "language_info": {
   "codemirror_mode": {
    "name": "ipython",
    "version": 3
   },
   "file_extension": ".py",
   "mimetype": "text/x-python",
   "name": "python",
   "nbconvert_exporter": "python",
   "pygments_lexer": "ipython3",
   "version": "3.8.6"
  }
 },
 "nbformat": 4,
 "nbformat_minor": 4
}
